{
 "cells": [
  {
   "cell_type": "code",
   "execution_count": 1,
   "metadata": {},
   "outputs": [],
   "source": [
    "import os\n",
    "import os.path\n",
    "import csv\n",
    "import time\n",
    "import PIL\n",
    "import math\n",
    "from sklearn.model_selection import StratifiedShuffleSplit\n",
    "import torch\n",
    "import torch.nn as nn\n",
    "import torch.nn.functional as F\n",
    "import torch.nn.init as init\n",
    "import torch.optim as optim\n",
    "from torch.utils.data import Dataset, DataLoader\n",
    "from torchvision import datasets, transforms, models\n",
    "import numpy as np\n",
    "import matplotlib.pyplot as plt\n",
    "from PIL import Image\n",
    "from tqdm import tqdm\n",
    "\n",
    "from ImageNet import *\n",
    "from CNN import *\n",
    "from ResNet import *\n",
    "from utils import *"
   ]
  },
  {
   "cell_type": "code",
   "execution_count": 2,
   "metadata": {},
   "outputs": [
    {
     "name": "stdout",
     "output_type": "stream",
     "text": [
      "Training on GPU\n"
     ]
    }
   ],
   "source": [
    "# Initialize dataset related parameters\n",
    "data_dir = './data'\n",
    "\n",
    "workers = 1\n",
    "batch_size = 64\n",
    "\n",
    "######################## task 3.1 ##########################\n",
    "\n",
    "max_epochs = 40\n",
    "lr = 0.015 \n",
    "\n",
    "########################    END   ##########################\n",
    "\n",
    "\n",
    "gpu = torch.cuda.is_available()\n",
    "\n",
    "if gpu:\n",
    "    print('Training on GPU')\n",
    "else:\n",
    "    print('Training on CPU')"
   ]
  },
  {
   "cell_type": "code",
   "execution_count": 3,
   "metadata": {},
   "outputs": [],
   "source": [
    "transform1 = transforms.RandomApply([\n",
    "    ######################## task 0.1 ##########################\n",
    "    # 依照概率执行\n",
    "    #transforms.RandomCrop(192, padding=64, padding_mode='reflect'),transforms.RandomResizedCrop(size=192, scale=(0.5, 0.5)),transforms.Pad(padding=(8, 16, 32, 64), fill=(255, 0, 0)\n",
    "])\n",
    "########################    END   ##########################\n",
    "\n",
    "transform2 = transforms.ToTensor()"
   ]
  },
  {
   "cell_type": "code",
   "execution_count": 4,
   "metadata": {},
   "outputs": [
    {
     "name": "stdout",
     "output_type": "stream",
     "text": [
      "Training Dataset Length: 90000\n",
      "Validation Dataset Length: 10000\n",
      "Test Dataset Length: 10000\n"
     ]
    }
   ],
   "source": [
    "dataset = TinyImageNetDataset(data_dir+'/train', transform=transforms.Compose([transform1, transform2]))\n",
    "labels = dataset.get_labels()\n",
    "\n",
    "sss = StratifiedShuffleSplit(n_splits=1, test_size=0.1, random_state=0)\n",
    "idx_tr, idx_val = next(sss.split(labels, labels))\n",
    "\n",
    "dataset_tr = torch.utils.data.Subset(dataset, idx_tr)\n",
    "dataset_val = torch.utils.data.Subset(dataset, idx_val)\n",
    "\n",
    "dataloader_tr = torch.utils.data.DataLoader(dataset_tr, batch_size=batch_size, shuffle=True, num_workers=workers)\n",
    "dataloader_val = torch.utils.data.DataLoader(dataset_val, batch_size=batch_size, shuffle=True, num_workers=workers)\n",
    "\n",
    "print('Training Dataset Length: ' + str(len(dataset_tr)))\n",
    "print('Validation Dataset Length: ' + str(len(dataset_val)))\n",
    "\n",
    "class_to_idx = dataset.get_class_to_idx()\n",
    "dataset_test = TinyImageNetTestDataset(data_dir+'/val', annot_filename = 'val_annotations.txt', class_to_idx = class_to_idx, transform=transform2)\n",
    "dataloader_test = torch.utils.data.DataLoader(dataset_test, batch_size=batch_size, shuffle=True, num_workers=workers)\n",
    "\n",
    "print('Test Dataset Length: ' + str(len(dataset_test)))"
   ]
  },
  {
   "cell_type": "code",
   "execution_count": 5,
   "metadata": {},
   "outputs": [],
   "source": [
    "model = CNN()\n",
    "# model = ResNet()\n",
    "model.apply(init_weights)\n",
    "if gpu:\n",
    "    model.cuda()\n",
    "# device = torch.device(\"cuda:0\" if torch.cuda.is_available() else \"cpu\")\n",
    "# if torch.cuda.device_count() > 1:\n",
    "#     model = nn.DataParallel(model)\n",
    "# model.to(device)#用两块1060加速\n",
    "\n",
    "######################## task 3.2 ##########################\n",
    "optimizer = optim.Adam(model.parameters(), lr=lr)\n",
    "scheduler = optim.lr_scheduler.ReduceLROnPlateau(optimizer, 'min', factor=0.1, patience=10, threshold=0.0001, verbose=True, min_lr=1e-5)\n",
    "criterion = nn.CrossEntropyLoss()\n",
    "########################    END   ##########################\n",
    "\n",
    "model_filename = 'mymodel.pth'"
   ]
  },
  {
   "cell_type": "code",
   "execution_count": 6,
   "metadata": {},
   "outputs": [],
   "source": [
    "def train(dataloader, model, optimizer, criterion):\n",
    "    batch = 0\n",
    "    loss = 0.0\n",
    "    correct = 0.0\n",
    "\n",
    "    model.train()    \n",
    "    \n",
    "    with tqdm(total=len(dataloader.dataset), desc='train', leave=True, ncols=100, unit='B', unit_scale=True) as pbar:\n",
    "        for X, Y in dataloader:\n",
    "            if gpu:\n",
    "                X = X.cuda()\n",
    "                Y = Y.cuda()\n",
    "            optimizer.zero_grad()        \n",
    "            logits = model(X)\n",
    "            cur_loss = criterion(logits, Y)\n",
    "            cur_loss.backward()\n",
    "            optimizer.step()\n",
    "            loss += cur_loss.item()\n",
    "            pred = logits.argmax(dim = 1)\n",
    "            correct += pred.eq(Y).sum()\n",
    "            \n",
    "            pbar.update(dataloader.batch_size)\n",
    "\n",
    "    loss = loss / float(len(dataloader.dataset))\n",
    "    accuracy = float(correct) / float(len(dataloader.dataset)) * 100\n",
    "    \n",
    "    return loss, accuracy"
   ]
  },
  {
   "cell_type": "code",
   "execution_count": 7,
   "metadata": {
    "scrolled": true
   },
   "outputs": [
    {
     "name": "stderr",
     "output_type": "stream",
     "text": [
      "train: 90.0kB [00:52, 1.71kB/s]                                                                     \n"
     ]
    },
    {
     "data": {
      "text/plain": [
       "(0.08142940276993646, 2.4655555555555555)"
      ]
     },
     "execution_count": 7,
     "metadata": {},
     "output_type": "execute_result"
    }
   ],
   "source": [
    "train(dataloader_tr, model, optimizer, criterion)"
   ]
  },
  {
   "cell_type": "code",
   "execution_count": 7,
   "metadata": {},
   "outputs": [],
   "source": [
    "def validate(dataloader, model, criterion):\n",
    "    \n",
    "    ######################## task 3.3 ##########################\n",
    "    batch = 0\n",
    "    loss = 0.0\n",
    "    correct = 0.0\n",
    "\n",
    "    with tqdm(total=len(dataloader.dataset), desc='validate', leave=True, ncols=100, unit='B', unit_scale=True) as pbar:\n",
    "        for X, Y in dataloader: \n",
    "            if gpu:\n",
    "                X = X.cuda()\n",
    "                Y = Y.cuda()\n",
    "            logits = model(X)\n",
    "            cur_loss = criterion(logits, Y)\n",
    "            loss += cur_loss.item()\n",
    "            pred = logits.argmax(dim = 1)\n",
    "            correct += pred.eq(Y).sum()\n",
    "            pbar.update(dataloader.batch_size)\n",
    "\n",
    "    loss = loss / float(len(dataloader.dataset))\n",
    "    accuracy = float(correct) / float(len(dataloader.dataset)) * 100\n",
    "    print(accuracy)\n",
    "    ########################    END   ##########################\n",
    "    \n",
    "    return loss, accuracy"
   ]
  },
  {
   "cell_type": "code",
   "execution_count": 8,
   "metadata": {},
   "outputs": [],
   "source": [
    "def test(model, dataloader):\n",
    "    \n",
    "    ######################## task 3.4 ##########################\n",
    "    batch = 0\n",
    "    loss = 0.0\n",
    "    correct = 0.0  \n",
    "\n",
    "    with tqdm(total=len(dataloader.dataset), desc='test', leave=True, ncols=100, unit='B', unit_scale=True) as pbar:\n",
    "        for X, Y in dataloader:\n",
    "            if gpu:\n",
    "                X = X.cuda()\n",
    "                Y = Y.cuda()\n",
    "            logits = model(X)\n",
    "            cur_loss = criterion(logits, Y)\n",
    "            loss += cur_loss.item()\n",
    "            pred = logits.argmax(dim = 1)\n",
    "            correct += pred.eq(Y).sum()\n",
    "            pbar.update(dataloader.batch_size)\n",
    "\n",
    "    loss = loss / float(len(dataloader.dataset))\n",
    "    accuracy = float(correct) / float(len(dataloader.dataset)) * 100\n",
    "\n",
    "    ########################    END   ##########################\n",
    "    \n",
    "    return pred, loss, accuracy\n"
   ]
  },
  {
   "cell_type": "code",
   "execution_count": 9,
   "metadata": {},
   "outputs": [],
   "source": [
    "def fit(dataloader_tr, dataloader_val, model, criterion, optimizer, max_epoch = 100, scheduler = None, filename = None, early_stop = True, patience = 10, resume = False):\n",
    "    start_epoch = 0\n",
    "    early_stop_counter = 0\n",
    "    min_loss_val = 1e10    \n",
    "    loss_tr_hist = []\n",
    "    loss_val_hist = []\n",
    "    accuracy_tr_hist = []\n",
    "    accuracy_val_hist = []\n",
    "    # 模型基础上继续训练\n",
    "    if resume == True:\n",
    "        if filename is None:\n",
    "            print('Please Provide File Name to load model')\n",
    "            return\n",
    "        start_epoch, model, optimizer, scheduler, early_stop_counter, loss_tr_hist, loss_val_hist, accuracy_tr_hist, accuracy_val_hist = load_model(filename, model, optimizer, scheduler, mode = 'train')\n",
    "        \n",
    "        \n",
    "    for epoch in range(start_epoch+1, max_epoch + 1):\n",
    "        t0 = time.time()\n",
    "        print(epoch)\n",
    "\n",
    "        loss_tr, accuracy_tr = train(dataloader_tr, model, optimizer, criterion)\n",
    "        loss_tr_hist.append(loss_tr)\n",
    "        accuracy_tr_hist.append(accuracy_tr)\n",
    "\n",
    "        loss_val, accuracy_val = validate(dataloader_val, model, criterion)\n",
    "        loss_val_hist.append(loss_val)\n",
    "        accuracy_val_hist.append(accuracy_val)\n",
    "\n",
    "        if scheduler is not None:\n",
    "            scheduler.step(loss_val)\n",
    "\n",
    "        ######################## task 3.5 ##########################\n",
    "        if early_stop:\n",
    "            if early_stop_counter <= patience:\n",
    "                if min_loss_val > loss_val:\n",
    "                    early_stop_counter = 0\n",
    "                    min_loss_val = loss_val\n",
    "                    weight = model.state_dict().copy()\n",
    "                else:\n",
    "                    early_stop_counter += 1\n",
    "            else:\n",
    "                model.load_state_dict(weight)\n",
    "                break\n",
    "        ########################    END   ##########################\n",
    "        \n",
    "    return loss_tr_hist, loss_val_hist, accuracy_tr_hist, accuracy_val_hist, early_stop_counter"
   ]
  },
  {
   "cell_type": "code",
   "execution_count": 10,
   "metadata": {},
   "outputs": [
    {
     "name": "stdout",
     "output_type": "stream",
     "text": [
      "1\n"
     ]
    },
    {
     "name": "stderr",
     "output_type": "stream",
     "text": [
      "train: 90.0kB [01:29, 1.01kB/s]                                                                     \n",
      "validate: 10.0kB [00:05, 1.95kB/s]                                                                  \n"
     ]
    },
    {
     "name": "stdout",
     "output_type": "stream",
     "text": [
      "4.15\n",
      "2\n"
     ]
    },
    {
     "name": "stderr",
     "output_type": "stream",
     "text": [
      "train: 90.0kB [01:30, 999B/s]                                                                       \n",
      "validate: 10.0kB [00:05, 1.94kB/s]                                                                  \n"
     ]
    },
    {
     "name": "stdout",
     "output_type": "stream",
     "text": [
      "11.86\n",
      "3\n"
     ]
    },
    {
     "name": "stderr",
     "output_type": "stream",
     "text": [
      "train: 90.0kB [01:30, 997B/s]                                                                       \n",
      "validate: 10.0kB [00:05, 2.00kB/s]                                                                  \n"
     ]
    },
    {
     "name": "stdout",
     "output_type": "stream",
     "text": [
      "15.97\n",
      "4\n"
     ]
    },
    {
     "name": "stderr",
     "output_type": "stream",
     "text": [
      "train: 90.0kB [01:30, 995B/s]                                                                       \n",
      "validate: 10.0kB [00:04, 2.03kB/s]                                                                  \n"
     ]
    },
    {
     "name": "stdout",
     "output_type": "stream",
     "text": [
      "18.4\n",
      "5\n"
     ]
    },
    {
     "name": "stderr",
     "output_type": "stream",
     "text": [
      "train: 90.0kB [01:30, 990B/s]                                                                       \n",
      "validate: 10.0kB [00:05, 1.84kB/s]                                                                  \n"
     ]
    },
    {
     "name": "stdout",
     "output_type": "stream",
     "text": [
      "20.52\n",
      "6\n"
     ]
    },
    {
     "name": "stderr",
     "output_type": "stream",
     "text": [
      "train: 90.0kB [01:30, 990B/s]                                                                       \n",
      "validate: 10.0kB [00:05, 1.87kB/s]                                                                  \n"
     ]
    },
    {
     "name": "stdout",
     "output_type": "stream",
     "text": [
      "21.38\n",
      "7\n"
     ]
    },
    {
     "name": "stderr",
     "output_type": "stream",
     "text": [
      "train: 90.0kB [01:31, 979B/s]                                                                       \n",
      "validate: 10.0kB [00:05, 1.95kB/s]                                                                  \n"
     ]
    },
    {
     "name": "stdout",
     "output_type": "stream",
     "text": [
      "21.959999999999997\n",
      "8\n"
     ]
    },
    {
     "name": "stderr",
     "output_type": "stream",
     "text": [
      "train: 90.0kB [01:31, 988B/s]                                                                       \n",
      "validate: 10.0kB [00:05, 1.96kB/s]                                                                  \n"
     ]
    },
    {
     "name": "stdout",
     "output_type": "stream",
     "text": [
      "23.13\n",
      "9\n"
     ]
    },
    {
     "name": "stderr",
     "output_type": "stream",
     "text": [
      "train: 90.0kB [01:31, 981B/s]                                                                       \n",
      "validate: 10.0kB [00:05, 1.98kB/s]                                                                  \n"
     ]
    },
    {
     "name": "stdout",
     "output_type": "stream",
     "text": [
      "23.93\n",
      "10\n"
     ]
    },
    {
     "name": "stderr",
     "output_type": "stream",
     "text": [
      "train: 90.0kB [01:31, 984B/s]                                                                       \n",
      "validate: 10.0kB [00:05, 1.97kB/s]                                                                  \n"
     ]
    },
    {
     "name": "stdout",
     "output_type": "stream",
     "text": [
      "24.48\n",
      "11\n"
     ]
    },
    {
     "name": "stderr",
     "output_type": "stream",
     "text": [
      "train: 90.0kB [01:31, 983B/s]                                                                       \n",
      "validate: 10.0kB [00:05, 1.93kB/s]                                                                  \n"
     ]
    },
    {
     "name": "stdout",
     "output_type": "stream",
     "text": [
      "25.45\n",
      "12\n"
     ]
    },
    {
     "name": "stderr",
     "output_type": "stream",
     "text": [
      "train: 90.0kB [01:31, 984B/s]                                                                       \n",
      "validate: 10.0kB [00:05, 1.92kB/s]                                                                  \n"
     ]
    },
    {
     "name": "stdout",
     "output_type": "stream",
     "text": [
      "25.679999999999996\n",
      "13\n"
     ]
    },
    {
     "name": "stderr",
     "output_type": "stream",
     "text": [
      "train: 90.0kB [01:31, 981B/s]                                                                       \n",
      "validate: 10.0kB [00:05, 1.95kB/s]                                                                  \n"
     ]
    },
    {
     "name": "stdout",
     "output_type": "stream",
     "text": [
      "26.5\n",
      "14\n"
     ]
    },
    {
     "name": "stderr",
     "output_type": "stream",
     "text": [
      "train: 90.0kB [01:31, 985B/s]                                                                       \n",
      "validate: 10.0kB [00:05, 1.97kB/s]                                                                  \n"
     ]
    },
    {
     "name": "stdout",
     "output_type": "stream",
     "text": [
      "26.0\n",
      "15\n"
     ]
    },
    {
     "name": "stderr",
     "output_type": "stream",
     "text": [
      "train: 90.0kB [01:32, 971B/s]                                                                       \n",
      "validate: 10.0kB [00:05, 1.84kB/s]                                                                  \n"
     ]
    },
    {
     "name": "stdout",
     "output_type": "stream",
     "text": [
      "27.200000000000003\n",
      "16\n"
     ]
    },
    {
     "name": "stderr",
     "output_type": "stream",
     "text": [
      "train: 90.0kB [01:32, 974B/s]                                                                       \n",
      "validate: 10.0kB [00:05, 1.88kB/s]                                                                  \n"
     ]
    },
    {
     "name": "stdout",
     "output_type": "stream",
     "text": [
      "27.200000000000003\n",
      "17\n"
     ]
    },
    {
     "name": "stderr",
     "output_type": "stream",
     "text": [
      "train: 90.0kB [01:32, 971B/s]                                                                       \n",
      "validate: 10.0kB [00:05, 1.94kB/s]                                                                  \n"
     ]
    },
    {
     "name": "stdout",
     "output_type": "stream",
     "text": [
      "26.939999999999998\n",
      "18\n"
     ]
    },
    {
     "name": "stderr",
     "output_type": "stream",
     "text": [
      "train: 90.0kB [01:32, 974B/s]                                                                       \n",
      "validate: 10.0kB [00:05, 1.95kB/s]                                                                  \n"
     ]
    },
    {
     "name": "stdout",
     "output_type": "stream",
     "text": [
      "27.68\n",
      "19\n"
     ]
    },
    {
     "name": "stderr",
     "output_type": "stream",
     "text": [
      "train: 90.0kB [01:32, 974B/s]                                                                       \n",
      "validate: 10.0kB [00:05, 1.97kB/s]                                                                  \n"
     ]
    },
    {
     "name": "stdout",
     "output_type": "stream",
     "text": [
      "27.48\n",
      "20\n"
     ]
    },
    {
     "name": "stderr",
     "output_type": "stream",
     "text": [
      "train: 90.0kB [01:32, 975B/s]                                                                       \n",
      "validate: 10.0kB [00:05, 1.98kB/s]                                                                  \n"
     ]
    },
    {
     "name": "stdout",
     "output_type": "stream",
     "text": [
      "27.91\n",
      "21\n"
     ]
    },
    {
     "name": "stderr",
     "output_type": "stream",
     "text": [
      "train: 90.0kB [01:31, 980B/s]                                                                       \n",
      "validate: 10.0kB [00:05, 1.97kB/s]                                                                  \n"
     ]
    },
    {
     "name": "stdout",
     "output_type": "stream",
     "text": [
      "27.77\n",
      "22\n"
     ]
    },
    {
     "name": "stderr",
     "output_type": "stream",
     "text": [
      "train: 90.0kB [01:31, 981B/s]                                                                       \n",
      "validate: 10.0kB [00:05, 1.97kB/s]                                                                  \n"
     ]
    },
    {
     "name": "stdout",
     "output_type": "stream",
     "text": [
      "27.800000000000004\n",
      "23\n"
     ]
    },
    {
     "name": "stderr",
     "output_type": "stream",
     "text": [
      "train: 90.0kB [01:32, 978B/s]                                                                       \n",
      "validate: 10.0kB [00:05, 1.96kB/s]                                                                  \n"
     ]
    },
    {
     "name": "stdout",
     "output_type": "stream",
     "text": [
      "27.139999999999997\n",
      "24\n"
     ]
    },
    {
     "name": "stderr",
     "output_type": "stream",
     "text": [
      "train: 90.0kB [01:32, 978B/s]                                                                       \n",
      "validate: 10.0kB [00:05, 1.97kB/s]                                                                  \n"
     ]
    },
    {
     "name": "stdout",
     "output_type": "stream",
     "text": [
      "27.82\n",
      "25\n"
     ]
    },
    {
     "name": "stderr",
     "output_type": "stream",
     "text": [
      "train: 90.0kB [01:32, 978B/s]                                                                       \n",
      "validate: 10.0kB [00:05, 1.98kB/s]                                                                  \n"
     ]
    },
    {
     "name": "stdout",
     "output_type": "stream",
     "text": [
      "28.599999999999998\n",
      "26\n"
     ]
    },
    {
     "name": "stderr",
     "output_type": "stream",
     "text": [
      "train: 90.0kB [01:31, 982B/s]                                                                       \n",
      "validate: 10.0kB [00:05, 1.97kB/s]                                                                  \n"
     ]
    },
    {
     "name": "stdout",
     "output_type": "stream",
     "text": [
      "28.09\n",
      "27\n"
     ]
    },
    {
     "name": "stderr",
     "output_type": "stream",
     "text": [
      "train: 90.0kB [01:31, 979B/s]                                                                       \n",
      "validate: 10.0kB [00:05, 1.90kB/s]                                                                  \n"
     ]
    },
    {
     "name": "stdout",
     "output_type": "stream",
     "text": [
      "28.050000000000004\n",
      "28\n"
     ]
    },
    {
     "name": "stderr",
     "output_type": "stream",
     "text": [
      "train: 90.0kB [01:32, 977B/s]                                                                       \n",
      "validate: 10.0kB [00:05, 1.91kB/s]                                                                  \n"
     ]
    },
    {
     "name": "stdout",
     "output_type": "stream",
     "text": [
      "28.970000000000002\n",
      "29\n"
     ]
    },
    {
     "name": "stderr",
     "output_type": "stream",
     "text": [
      "train: 90.0kB [01:31, 979B/s]                                                                       \n",
      "validate: 10.0kB [00:05, 1.84kB/s]                                                                  \n"
     ]
    },
    {
     "name": "stdout",
     "output_type": "stream",
     "text": [
      "28.64\n",
      "30\n"
     ]
    },
    {
     "name": "stderr",
     "output_type": "stream",
     "text": [
      "train: 90.0kB [01:32, 976B/s]                                                                       \n",
      "validate: 10.0kB [00:05, 1.91kB/s]                                                                  "
     ]
    },
    {
     "name": "stdout",
     "output_type": "stream",
     "text": [
      "29.099999999999998\n"
     ]
    },
    {
     "name": "stderr",
     "output_type": "stream",
     "text": [
      "\n"
     ]
    }
   ],
   "source": [
    "loss_tr_hist, loss_val_hist, accuracy_tr_hist, accuracy_val_hist, early_stop_counter = fit(\n",
    "            ######################## task 3.6 ##########################\n",
    "dataloader_tr, dataloader_val, model, criterion, optimizer, max_epoch = 30, scheduler = scheduler, filename = None, early_stop = True, patience = 10, resume = False\n",
    "            ########################    END   ##########################\n",
    ")"
   ]
  },
  {
   "cell_type": "code",
   "execution_count": 11,
   "metadata": {},
   "outputs": [],
   "source": [
    "save_model(model_filename, model, optimizer, scheduler, epoch=max_epochs, \n",
    "           loss_tr_hist=loss_tr_hist, \n",
    "           loss_val_hist=loss_val_hist, \n",
    "           accuracy_tr_hist=accuracy_tr_hist,\n",
    "           accuracy_val_hist=accuracy_val_hist, \n",
    "           early_stop_counter=early_stop_counter)"
   ]
  },
  {
   "cell_type": "code",
   "execution_count": 12,
   "metadata": {},
   "outputs": [
    {
     "name": "stderr",
     "output_type": "stream",
     "text": [
      "test: 10.0kB [00:04, 2.22kB/s]                                                                      "
     ]
    },
    {
     "name": "stdout",
     "output_type": "stream",
     "text": [
      "Test Loss:  0.0496  |  Test Accuracy: 28.6700\n"
     ]
    },
    {
     "name": "stderr",
     "output_type": "stream",
     "text": [
      "\n"
     ]
    }
   ],
   "source": [
    "model = CNN()\n",
    "# model = ResNet()\n",
    "model = load_model(model_filename, model, mode = 'test')\n",
    "if gpu:\n",
    "    model.cuda()\n",
    "pred, loss_test, accuracy_test = test(model, dataloader_test)\n",
    "print('Test Loss: {0:7.4f}  |  Test Accuracy: {1:7.4f}'.format(loss_test, accuracy_test))"
   ]
  },
  {
   "cell_type": "code",
   "execution_count": 13,
   "metadata": {
    "scrolled": true
   },
   "outputs": [
    {
     "data": {
      "image/png": "[encoded data removed]",
      "text/plain": [
       "<Figure size 720x360 with 2 Axes>"
      ]
     },
     "metadata": {
      "needs_background": "light"
     },
     "output_type": "display_data"
    }
   ],
   "source": [
    "plot(loss_tr_hist, loss_val_hist, accuracy_tr_hist, accuracy_val_hist)"
   ]
  },
  {
   "cell_type": "code",
   "execution_count": null,
   "metadata": {},
   "outputs": [],
   "source": []
  }
 ],
 "metadata": {
  "interpreter": {
   "hash": "553c9fd0f2e8de60f7c1e43887c8b5eb4e01ed43100aba3f2fe0931f36bb9abc"
  },
  "kernelspec": {
   "display_name": "Python 3 (ipykernel)",
   "language": "python",
   "name": "python3"
  },
  "language_info": {
   "codemirror_mode": {
    "name": "ipython",
    "version": 3
   },
   "file_extension": ".py",
   "mimetype": "text/x-python",
   "name": "python",
   "nbconvert_exporter": "python",
   "pygments_lexer": "ipython3",
   "version": "3.8.0"
  }
 },
 "nbformat": 4,
 "nbformat_minor": 2
}
