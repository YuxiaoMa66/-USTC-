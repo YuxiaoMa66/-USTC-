{
 "cells": [
  {
   "cell_type": "code",
   "execution_count": 1,
   "metadata": {},
   "outputs": [],
   "source": [
    "import numpy as np\n",
    "import random\n",
    "import matplotlib.pyplot as plt\n",
    "import time"
   ]
  },
  {
   "cell_type": "markdown",
   "metadata": {},
   "source": [
    "# generate data"
   ]
  },
  {
   "cell_type": "code",
   "execution_count": 2,
   "metadata": {},
   "outputs": [],
   "source": [
    "# In real world, you cannot learn how the data was generated. So do not rely on this function when coding your lab.\n",
    "def generate_data(dim, num):\n",
    "    x = np.random.normal(0, 10, [num, dim])\n",
    "    coef = np.random.uniform(-1, 1, [dim, 1])\n",
    "    pred = np.dot(x, coef)\n",
    "    pred_n = (pred - np.mean(pred)) / np.sqrt(np.var(pred))\n",
    "    label = np.sign(pred_n)\n",
    "    mislabel_value = np.random.uniform(0, 1, num)\n",
    "    mislabel = 0\n",
    "    for i in range(num):\n",
    "        if np.abs(pred_n[i]) < 1 and mislabel_value[i] > 0.9 + 0.1 * np.abs(pred_n[i]):\n",
    "            label[i] *= -1\n",
    "            mislabel += 1\n",
    "    return x, label, mislabel/num"
   ]
  },
  {
   "cell_type": "code",
   "execution_count": 3,
   "metadata": {},
   "outputs": [],
   "source": [
    "# example\n",
    "x, y, mr = generate_data(5, 100)"
   ]
  },
  {
   "cell_type": "code",
   "execution_count": 4,
   "metadata": {},
   "outputs": [
    {
     "data": {
      "text/plain": [
       "(array([[  4.39192005,   9.66565871,   3.31240769,   0.34354965,\n",
       "          21.18714667],\n",
       "        [  4.21226416,   5.98440744, -12.54690286,   4.07529853,\n",
       "           4.06032255],\n",
       "        [  6.56711402,   8.24807435, -21.97036933,  -6.69375676,\n",
       "         -10.03385828],\n",
       "        [  5.33014751,   5.08155209,  -0.96813844,   8.81674126,\n",
       "          -2.44783217],\n",
       "        [-20.79992886,  -5.14951843,  11.31308323,  -5.99650972,\n",
       "          13.23617651]]),\n",
       " array([[ 1.],\n",
       "        [ 1.],\n",
       "        [ 1.],\n",
       "        [ 1.],\n",
       "        [-1.]]))"
      ]
     },
     "execution_count": 4,
     "metadata": {},
     "output_type": "execute_result"
    }
   ],
   "source": [
    "x[:5], y[:5]"
   ]
  },
  {
   "cell_type": "code",
   "execution_count": 5,
   "metadata": {},
   "outputs": [
    {
     "data": {
      "text/plain": [
       "(53, 100)"
      ]
     },
     "execution_count": 5,
     "metadata": {},
     "output_type": "execute_result"
    }
   ],
   "source": [
    "cnt = 0\n",
    "for i in y:\n",
    "    if i==1:\n",
    "        cnt += 1\n",
    "cnt,y.shape[0]"
   ]
  },
  {
   "cell_type": "code",
   "execution_count": 6,
   "metadata": {},
   "outputs": [
    {
     "data": {
      "text/plain": [
       "(100,)"
      ]
     },
     "execution_count": 6,
     "metadata": {},
     "output_type": "execute_result"
    }
   ],
   "source": [
    "n,m = x.shape\n",
    "alpha1 = np.ones(n)\n",
    "alpha1.shape"
   ]
  },
  {
   "cell_type": "markdown",
   "metadata": {},
   "source": [
    "# write your model class"
   ]
  },
  {
   "cell_type": "code",
   "execution_count": 7,
   "metadata": {},
   "outputs": [],
   "source": [
    "# you can do anything necessary about the model\n",
    "# 线性版本\n",
    "class SVM1: \n",
    "    def __init__(self, dim):\n",
    "        \"\"\"\n",
    "        You can add some other parameters, which I think is not necessary\n",
    "        \"\"\"\n",
    "        self.dim = dim\n",
    "        self.alpha = np.zeros(dim[0])\n",
    "        self.b = 0\n",
    "        self.w = 0\n",
    "        \n",
    "        \n",
    "    def kernel(self, X1, X2):\n",
    "        return np.dot(X1, X2.T)  # linear SVM \n",
    "    \n",
    "    def fxi(self, x_):\n",
    "        \"\"\"\n",
    "        f(x) function\n",
    "        :param X: the datasets\n",
    "        :param x_: the predict data\n",
    "        :return: the distance.\n",
    "        \"\"\"\n",
    "        ans = 0\n",
    "        for i in range(self.dim[0]):\n",
    "            ans += self.alpha[i] * self.Y[i] * self.kernel(self.X[i], x_)\n",
    "        ans += self.b\n",
    "        return ans\n",
    "\n",
    "\n",
    "    def fit(self, x, y):\n",
    "        \"\"\"\n",
    "        Fit the coefficients via your methods\n",
    "        \"\"\"\n",
    "        self.X = x\n",
    "        self.Y = y\n",
    "        n,m = x.shape\n",
    "        a1 = [i for i in range(n)]\n",
    "        a2 = [i for i in range(n)]\n",
    "        random.shuffle(a2)\n",
    "        \n",
    "        # 最大迭代次数\n",
    "        max_iter=1e3\n",
    "        cnt = 0\n",
    "        # C是一个超参数，惩罚参数，C越大对误分类的惩罚就越大。\n",
    "        C = 10\n",
    "        err = []\n",
    "        init_time = time.time()\n",
    "        while(1):\n",
    "            \n",
    "            cnt  += 1\n",
    "            if cnt > max_iter:\n",
    "                break\n",
    "            E = 0\n",
    "            for i in range(n):\n",
    "                y1 = self.Y[a1[i]]\n",
    "                y2 = self.Y[a2[i]]\n",
    "                alpha1 = self.alpha[a1[i]]\n",
    "                alpha2 = self.alpha[a2[i]]\n",
    "                E1 = self.fxi(self.X[a1[i]]) - y1\n",
    "                E2 = self.fxi(self.X[a2[i]]) - y2\n",
    "                # print(E1)\n",
    "                \n",
    "                \n",
    "                if y1!=y2:\n",
    "                    L = max(0, alpha2 - alpha1)\n",
    "                    H = min(C, C + alpha2 - alpha1)\n",
    "                else:  \n",
    "                    L = max(0, alpha2 + alpha1 - C)\n",
    "                    H = min(C, alpha2 + alpha1)\n",
    "                    \n",
    "                # 计算eta\n",
    "                K11 = self.kernel(self.X[a1[i]], self.X[a1[i]])\n",
    "                K21 = self.kernel(self.X[a2[i]], self.X[a1[i]])\n",
    "                K22 = self.kernel(self.X[a2[i]], self.X[a2[i]])\n",
    "                K12 = self.kernel(self.X[a1[i]], self.X[a2[i]])\n",
    "                eta = K11 + K22 - 2. * K12\n",
    "                # print(eta)\n",
    "                # 更新参数\n",
    "                if eta>1e-6:\n",
    "                    alpha2_new = alpha2 + y2 * (E1 - E2) / eta\n",
    "                else:\n",
    "                    eta += 1e-6\n",
    "                    alpha2_new = alpha2 + y2 * (E1 - E2) / eta\n",
    "                alpha2_new = np.clip(alpha2_new, L, H)\n",
    "                alpha1_new = alpha1 + y1 * y2 * (alpha2 - alpha2_new)\n",
    "                \n",
    "                self.alpha[a1[i]] = alpha1_new\n",
    "                self.alpha[a2[i]] = alpha2_new\n",
    "                b1 = -E1 - y1 * K11 * (alpha1_new - alpha1) - y2 * K21 * (alpha2_new - alpha2) + self.b\n",
    "                b2 = -E2 - y2 * K12 * (alpha1_new - alpha1) - y2 * K22 * (alpha2_new - alpha2) + self.b\n",
    "                self.b = (b1 + b2) / 2\n",
    "                E += y1 * y2 * (alpha2 - alpha2_new)\n",
    "\n",
    "            err.append(E) \n",
    "        t = time.time() - init_time\n",
    "        print(f'用时%f秒'%t)    \n",
    "        return err    \n",
    "            \n",
    "        \n",
    "    def predict(self, X):\n",
    "        \"\"\"\n",
    "        Use the trained model to generate prediction probabilities on a new\n",
    "        collection of data points.\n",
    "        \"\"\"\n",
    "        ans = self.fxi(X)\n",
    "        return np.sign(ans)"
   ]
  },
  {
   "cell_type": "code",
   "execution_count": 8,
   "metadata": {},
   "outputs": [],
   "source": [
    "# you can do anything necessary about the model\n",
    "# 多项式核版本\n",
    "class SVM2: \n",
    "    def __init__(self, dim):\n",
    "        \"\"\"\n",
    "        You can add some other parameters, which I think is not necessary\n",
    "        \"\"\"\n",
    "        self.dim = dim\n",
    "        self.alpha = np.zeros(dim[0])\n",
    "        self.b = 0\n",
    "        self.w = 0\n",
    "        \n",
    "        \n",
    "    def kernel(self, X1, X2):\n",
    "        # m = X1.shape[0]\n",
    "        K = np.dot(X1, X2.T)\n",
    "        # print(K)\n",
    "        # for j in range(m):\n",
    "        #     K[j] = K[j]**2\n",
    "        return K**(2)\n",
    "    \n",
    "    def fxi(self, x_):\n",
    "        \"\"\"\n",
    "        f(x) function\n",
    "        :param X: the datasets\n",
    "        :param x_: the predict data\n",
    "        :return: the distance.\n",
    "        \"\"\"\n",
    "        ans = 0\n",
    "        for i in range(self.dim[0]):\n",
    "            ans += self.alpha[i] * self.Y[i] * self.kernel(self.X[i], x_)\n",
    "        ans += self.b\n",
    "        return ans\n",
    "\n",
    "\n",
    "    def fit(self, x, y):\n",
    "        \"\"\"\n",
    "        Fit the coefficients via your methods\n",
    "        \"\"\"\n",
    "        self.X = x\n",
    "        self.Y = y\n",
    "        n,m = x.shape\n",
    "        a1 = [i for i in range(n)]\n",
    "        a2 = [i for i in range(n)]\n",
    "        random.shuffle(a2)\n",
    "        \n",
    "        # 最大迭代次数\n",
    "        max_iter=1e3\n",
    "        cnt = 0\n",
    "        # C是一个超参数，惩罚参数，C越大对误分类的惩罚就越大。\n",
    "        C = 10\n",
    "        err = []\n",
    "        init_time = time.time()\n",
    "        while(1):\n",
    "            \n",
    "            cnt  += 1\n",
    "            if cnt > max_iter:\n",
    "                break\n",
    "            E = 0\n",
    "            for i in range(n):\n",
    "                y1 = self.Y[a1[i]]\n",
    "                y2 = self.Y[a2[i]]\n",
    "                alpha1 = self.alpha[a1[i]]\n",
    "                alpha2 = self.alpha[a2[i]]\n",
    "                E1 = self.fxi(self.X[a1[i]]) - y1\n",
    "                E2 = self.fxi(self.X[a2[i]]) - y2\n",
    "                # print(E1)\n",
    "                \n",
    "                \n",
    "                if y1!=y2:\n",
    "                    L = max(0, alpha2 - alpha1)\n",
    "                    H = min(C, C + alpha2 - alpha1)\n",
    "                else:  \n",
    "                    L = max(0, alpha2 + alpha1 - C)\n",
    "                    H = min(C, alpha2 + alpha1)\n",
    "                    \n",
    "                # 计算eta\n",
    "                K11 = self.kernel(self.X[a1[i]], self.X[a1[i]])\n",
    "                K21 = self.kernel(self.X[a2[i]], self.X[a1[i]])\n",
    "                K22 = self.kernel(self.X[a2[i]], self.X[a2[i]])\n",
    "                K12 = self.kernel(self.X[a1[i]], self.X[a2[i]])\n",
    "                eta = K11 + K22 - 2. * K12\n",
    "                # print(eta)\n",
    "                # 更新参数\n",
    "                if eta>1e-6:\n",
    "                    alpha2_new = alpha2 + y2 * (E1 - E2) / eta\n",
    "                else:\n",
    "                    eta += 1e-6\n",
    "                    alpha2_new = alpha2 + y2 * (E1 - E2) / eta\n",
    "                alpha2_new = np.clip(alpha2_new, L, H)\n",
    "                alpha1_new = alpha1 + y1 * y2 * (alpha2 - alpha2_new)\n",
    "                \n",
    "                self.alpha[a1[i]] = alpha1_new\n",
    "                self.alpha[a2[i]] = alpha2_new\n",
    "                b1 = -E1 - y1 * K11 * (alpha1_new - alpha1) - y2 * K21 * (alpha2_new - alpha2) + self.b\n",
    "                b2 = -E2 - y2 * K12 * (alpha1_new - alpha1) - y2 * K22 * (alpha2_new - alpha2) + self.b\n",
    "                self.b = (b1 + b2) / 2\n",
    "                E += y1 * y2 * (alpha2 - alpha2_new)\n",
    "\n",
    "            err.append(E) \n",
    "        t = time.time() - init_time\n",
    "        print(f'用时%f秒'%t)    \n",
    "        return err    \n",
    "            \n",
    "        \n",
    "    def predict(self, X):\n",
    "        \"\"\"\n",
    "        Use the trained model to generate prediction probabilities on a new\n",
    "        collection of data points.\n",
    "        \"\"\"\n",
    "        ans = self.fxi(X)\n",
    "        return np.sign(ans)"
   ]
  },
  {
   "cell_type": "markdown",
   "metadata": {},
   "source": [
    "# construct and train your models"
   ]
  },
  {
   "cell_type": "code",
   "execution_count": 26,
   "metadata": {},
   "outputs": [],
   "source": [
    "# generate data\n",
    "# X_data, y_data, mislabel = generate_data() \n",
    "data = np.concatenate((x, y), axis = 1)\n",
    "\n",
    "# split data\n",
    "def split_train_test(data, test_ratio):\n",
    "    index = [i for i in range(len(data))]\n",
    "    random.shuffle(index)\n",
    "    num = int(test_ratio *len(data))\n",
    "    train_data = data[0:num,:]\n",
    "    test_data = data[num+1:len(data),:]\n",
    "    return train_data, test_data\n",
    "    \n",
    "dim_col = data.shape[1]\n",
    "train,test = split_train_test(data, 0.2)\n",
    "X_train = train[:,0:dim_col-2]\n",
    "y_train = train[:,dim_col-1]\n",
    "X_test = test[:,0:dim_col-2]\n",
    "y_test = test[:,dim_col-1]\n",
    "# y_test\n"
   ]
  },
  {
   "cell_type": "code",
   "execution_count": 33,
   "metadata": {},
   "outputs": [
    {
     "name": "stdout",
     "output_type": "stream",
     "text": [
      "用时1.454028秒\n",
      "用时1.553001秒\n"
     ]
    }
   ],
   "source": [
    "# constrcut model and train (remember record time)\n",
    "dim = X_train.shape\n",
    "model1 = SVM1(dim) \n",
    "loss1 = model1.fit(X_train,y_train)\n",
    "\n",
    "model2 = SVM2(dim) \n",
    "loss2 = model2.fit(X_train,y_train)\n"
   ]
  },
  {
   "cell_type": "code",
   "execution_count": 28,
   "metadata": {},
   "outputs": [
    {
     "data": {
      "image/png": "[encoded data removed]",
      "text/plain": [
       "<Figure size 432x288 with 1 Axes>"
      ]
     },
     "metadata": {
      "needs_background": "light"
     },
     "output_type": "display_data"
    }
   ],
   "source": [
    "plt.plot(loss1,label = \"Loss Curve1\")\n",
    "plt.plot(loss2,label = \"Loss Curve2\")\n",
    "plt.legend()\n",
    "# plt.savefig(\"loss.pdf\")\n",
    "plt.show()"
   ]
  },
  {
   "cell_type": "markdown",
   "metadata": {},
   "source": [
    "# predict and compare your results"
   ]
  },
  {
   "cell_type": "code",
   "execution_count": 29,
   "metadata": {},
   "outputs": [
    {
     "data": {
      "text/plain": [
       "0.7721518987341772"
      ]
     },
     "execution_count": 29,
     "metadata": {},
     "output_type": "execute_result"
    }
   ],
   "source": [
    "# make prediction\n",
    "pred = model1.predict(X_test)\n",
    "\n",
    "cnt = 0\n",
    "# compared with answer\n",
    "for i in range(len(pred)):\n",
    "    if pred[i] == y_test[i]:\n",
    "        cnt+=1\n",
    "cnt/len(pred)"
   ]
  },
  {
   "cell_type": "code",
   "execution_count": 30,
   "metadata": {},
   "outputs": [
    {
     "data": {
      "text/plain": [
       "0.620253164556962"
      ]
     },
     "execution_count": 30,
     "metadata": {},
     "output_type": "execute_result"
    }
   ],
   "source": [
    "pred = model2.predict(X_test)\n",
    "\n",
    "cnt = 0\n",
    "# compared with answer\n",
    "for i in range(len(pred)):\n",
    "    if pred[i] == y_test[i]:\n",
    "        cnt+=1\n",
    "cnt/len(pred)"
   ]
  },
  {
   "cell_type": "code",
   "execution_count": null,
   "metadata": {},
   "outputs": [],
   "source": []
  },
  {
   "cell_type": "code",
   "execution_count": null,
   "metadata": {},
   "outputs": [],
   "source": []
  }
 ],
 "metadata": {
  "kernelspec": {
   "display_name": "tf_torch",
   "language": "python",
   "name": "tf_torch"
  },
  "language_info": {
   "codemirror_mode": {
    "name": "ipython",
    "version": 3
   },
   "file_extension": ".py",
   "mimetype": "text/x-python",
   "name": "python",
   "nbconvert_exporter": "python",
   "pygments_lexer": "ipython3",
   "version": "3.7.13 (default, Mar 28 2022, 08:03:21) [MSC v.1916 64 bit (AMD64)]"
  },
  "toc": {
   "base_numbering": 1,
   "nav_menu": {},
   "number_sections": true,
   "sideBar": true,
   "skip_h1_title": false,
   "title_cell": "Table of Contents",
   "title_sidebar": "Contents",
   "toc_cell": false,
   "toc_position": {},
   "toc_section_display": true,
   "toc_window_display": false
  },
  "vscode": {
   "interpreter": {
    "hash": "bda35a1e879a05a447a165f858b45568b1b1e2abd2947b4d01b6ed4acf0b7308"
   }
  }
 },
 "nbformat": 4,
 "nbformat_minor": 4
}
