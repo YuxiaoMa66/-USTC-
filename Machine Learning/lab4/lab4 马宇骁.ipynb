{
 "cells": [
  {
   "cell_type": "code",
   "execution_count": 2,
   "metadata": {},
   "outputs": [],
   "source": [
    "import numpy as np\n",
    "import pandas as pd\n",
    "import matplotlib.pyplot as plt\n",
    "from sklearn.metrics import davies_bouldin_score as DBI"
   ]
  },
  {
   "cell_type": "code",
   "execution_count": 3,
   "metadata": {},
   "outputs": [
    {
     "data": {
      "text/plain": [
       "array([[15.55, 28.65],\n",
       "       [14.9 , 27.55],\n",
       "       [14.45, 28.35],\n",
       "       ...,\n",
       "       [ 8.5 ,  3.25],\n",
       "       [ 8.1 ,  3.55],\n",
       "       [ 8.15,  4.  ]])"
      ]
     },
     "execution_count": 3,
     "metadata": {},
     "output_type": "execute_result"
    }
   ],
   "source": [
    "data1 = np.loadtxt(\"D31.txt\")\n",
    "data2 = np.loadtxt(\"R15.txt\")\n",
    "data3 = np.loadtxt(\"Aggregation.txt\")\n",
    "data3"
   ]
  },
  {
   "cell_type": "code",
   "execution_count": 69,
   "metadata": {},
   "outputs": [],
   "source": [
    "class DPC():\n",
    "    def __init__(self, data = None):\n",
    "        self.data = data\n",
    "        \n",
    "    # 计算数据点两两之间的距离\n",
    "    def getDistanceMatrix(self, data = None):\n",
    "        if(data != None):\n",
    "            self.data = data\n",
    "        N, D = np.shape(self.data)\n",
    "        dists = np.zeros([N, N])\n",
    "\n",
    "        for i in range(N):\n",
    "            for j in range(N):\n",
    "                vi = self.data[i, :]\n",
    "                vj = self.data[j, :]\n",
    "                dists[i, j] = np.sqrt(np.dot((vi - vj), (vi - vj)))\n",
    "        self.dists = dists\n",
    "        return dists\n",
    "    \n",
    "    # 找到密度计算的阈值dc\n",
    "    # 要求平均每个点周围距离小于dc的点的数目占总点数的1%-2%\n",
    "    def select_dc(self):\n",
    "        '''算法1'''\n",
    "        N = np.shape(self.dists)[0]\n",
    "        tt = np.reshape(self.dists, N * N)\n",
    "        percent = 2.0\n",
    "        position = int(N * (N - 1) * percent / 100)\n",
    "        dc = np.sort(tt)[position + N]\n",
    "        self.dc = dc\n",
    "        return dc\n",
    "    \n",
    "    # 计算每个点的局部密度\n",
    "    def get_density(self, method=None):\n",
    "        N = np.shape(self.dists)[0]\n",
    "        rho = np.zeros(N)\n",
    "    \n",
    "        for i in range(N):\n",
    "            if method == None:\n",
    "                rho[i] = np.where(self.dists[i, :] < self.dc)[0].shape[0] - 1\n",
    "            else:\n",
    "                rho[i] = np.sum(np.exp(-(self.dists[i, :] / self.dc) ** 2)) - 1\n",
    "        \n",
    "        self.rho = rho\n",
    "        return rho\n",
    "    \n",
    "    # 计算每个数据点的密度距离\n",
    "    # 即对每个点，找到密度比它大的所有点\n",
    "    # 再在这些点中找到距离其最近的点的距离\n",
    "    def get_deltas(self):\n",
    "        N = np.shape(self.dists)[0]\n",
    "        deltas = np.zeros(N)\n",
    "        nearest_neiber = np.zeros(N)\n",
    "        # 将密度从大到小排序\n",
    "        index_rho = np.argsort(-self.rho)\n",
    "        for i, index in enumerate(index_rho):\n",
    "            # 对于密度最大的点\n",
    "            if i == 0:\n",
    "                continue\n",
    "\n",
    "            # 对于其他的点\n",
    "            # 找到密度比其大的点的序号    \n",
    "            index_higher_rho = index_rho[:i]\n",
    "            # 获取这些点距离当前点的距离,并找最小值\n",
    "            deltas[index] = np.min(self.dists[index, index_higher_rho])\n",
    "\n",
    "            # 保存最近邻点的编号\n",
    "            index_nn = np.argmin(self.dists[index, index_higher_rho])\n",
    "            nearest_neiber[index] = index_higher_rho[index_nn].astype(int)\n",
    "\n",
    "        deltas[index_rho[0]] = np.max(deltas)\n",
    "        \n",
    "        self.deltas = deltas\n",
    "        self.nearest_neiber = nearest_neiber\n",
    "        \n",
    "        return deltas, nearest_neiber\n",
    "    \n",
    "    # 通过阈值选取 rho与delta都大的点\n",
    "    # 作为聚类中心    \n",
    "    def find_centers_auto(self):\n",
    "        rho_threshold = (np.min(self.rho) + np.max(self.rho)) / 2\n",
    "        delta_threshold = (np.min(self.deltas) + np.max(self.deltas)) / 2\n",
    "        N = np.shape(self.rho)[0]\n",
    "\n",
    "        centers = []\n",
    "        for i in range(N):\n",
    "            if self.rho[i] >= rho_threshold and self.deltas[i] > delta_threshold:\n",
    "                centers.append(i)\n",
    "                \n",
    "        self.centers = np.array(centers)\n",
    "        return np.array(centers)\n",
    "    \n",
    "    # 选取 rho与delta乘积较大的点作为\n",
    "    # 聚类中心   \n",
    "    def find_centers_K(self, K):\n",
    "        rho_delta = self.rho * self.deltas\n",
    "        centers = np.argsort(-rho_delta)\n",
    "        \n",
    "        self.centers = centers[:K]\n",
    "        return centers[:K]\n",
    "    \n",
    "    def cluster_PD(self):\n",
    "        K = np.shape(self.centers)[0]\n",
    "        if K == 0:\n",
    "            print(\"can not find self.\")\n",
    "            return\n",
    "    \n",
    "        N = np.shape(self.rho)[0]\n",
    "        labs = -1 * np.ones(N).astype(int)\n",
    "    \n",
    "        # 首先对几个聚类中进行标号\n",
    "        for i, center in enumerate(self.centers):\n",
    "            labs[center] = i\n",
    "    \n",
    "        # 将密度从大到小排序\n",
    "        index_rho = np.argsort(-self.rho)\n",
    "        for i, index in enumerate(index_rho):\n",
    "            # 从密度大的点进行标号\n",
    "            if labs[index] == -1:\n",
    "                # 如果没有被标记过\n",
    "                # 那么聚类标号与距离其最近且密度比其大\n",
    "                # 的点的标号相同\n",
    "                labs[index] = labs[int(self.nearest_neiber[index])]\n",
    "                \n",
    "        self.labs = labs\n",
    "        return labs\n",
    "    \n",
    "    \n",
    "    # DPC算法拟合\n",
    "    def fit(self, method=\"Gaussion\", findtype = 1, K=1): # 指定1为find_centers_auto，2为find_centers_K（需要自己输入K）\n",
    "        \n",
    "        # 距离矩阵\n",
    "        dists = self.getDistanceMatrix()\n",
    "        dc = self.select_dc()\n",
    "        # 计算局部密度\n",
    "        rho = self.get_density(method = method)\n",
    "        # 计算密度距离\n",
    "        deltas, nearest_neiber = self.get_deltas()\n",
    "        # 获取聚类中心点\n",
    "        if findtype == 1:\n",
    "            centers = self.find_centers_auto()\n",
    "        elif findtype == 2:\n",
    "            centers = self.find_centers_K(K = K)\n",
    "        labs = self.cluster_PD()\n",
    "        \n",
    "        return labs\n",
    "        \n",
    "    \n",
    "    def draw_cluster(self, dic_colors, name=\"cluster.pdf\"):\n",
    "        plt.cla()\n",
    "        K = np.shape(self.centers)[0]\n",
    "    \n",
    "        for k in range(K):\n",
    "            sub_index = np.where(self.labs == k)\n",
    "            sub_datas = self.data[sub_index]\n",
    "            # 画数据点\n",
    "            plt.scatter(sub_datas[:, 0], sub_datas[:, 1], s=16., color=dic_colors[k])\n",
    "            # 画聚类中心\n",
    "            plt.scatter(self.data[self.centers[k], 0], self.data[self.centers[k], 1], color=\"k\", marker=\"+\", s=200.)\n",
    "        plt.savefig(name)\n",
    "        plt.show()\n",
    "    \n",
    "    "
   ]
  },
  {
   "cell_type": "code",
   "execution_count": 70,
   "metadata": {},
   "outputs": [],
   "source": [
    "model1 = DPC(data=data1)\n",
    "model2 = DPC(data=data2)\n",
    "model3 = DPC(data=data3)"
   ]
  },
  {
   "cell_type": "code",
   "execution_count": 11,
   "metadata": {},
   "outputs": [
    {
     "data": {
      "text/plain": [
       "(3100, 3100)"
      ]
     },
     "execution_count": 11,
     "metadata": {},
     "output_type": "execute_result"
    }
   ],
   "source": [
    "dis1 = model1.getDistanceMatrix()\n",
    "dis1.shape"
   ]
  },
  {
   "cell_type": "code",
   "execution_count": 71,
   "metadata": {},
   "outputs": [],
   "source": [
    "label1 = model1.fit()"
   ]
  },
  {
   "cell_type": "code",
   "execution_count": 72,
   "metadata": {},
   "outputs": [],
   "source": [
    "# label2 = model2.fit(method=None) # 四个聚类\n",
    "# label2 = model2.fit() # 10个聚类，还行\n",
    "label2 = model2.fit(findtype = 2, K=14) # 根据图像手动指定了14个"
   ]
  },
  {
   "cell_type": "code",
   "execution_count": 87,
   "metadata": {},
   "outputs": [],
   "source": [
    "# label3 = model3.fit() # 高斯4个聚类\n",
    "# label3 = model3.fit(method=None) # 5个聚类\n",
    "label3 = model3.fit(findtype = 2, K=7) # 根据图像手动指定了7个"
   ]
  },
  {
   "cell_type": "code",
   "execution_count": 88,
   "metadata": {},
   "outputs": [
    {
     "data": {
      "text/plain": [
       "(0.781987832988031, 0.37374794009855516, 0.5035680502991704)"
      ]
     },
     "execution_count": 88,
     "metadata": {},
     "output_type": "execute_result"
    }
   ],
   "source": [
    "DBI(data1,label1), DBI(data2,label2), DBI(data3,label3)"
   ]
  },
  {
   "cell_type": "code",
   "execution_count": 83,
   "metadata": {},
   "outputs": [
    {
     "data": {
      "text/plain": [
       "(6, 14, 7)"
      ]
     },
     "execution_count": 83,
     "metadata": {},
     "output_type": "execute_result"
    }
   ],
   "source": [
    "n1 = model1.centers.shape[0]\n",
    "n2= model2.centers.shape[0]\n",
    "n3 = model3.centers.shape[0]\n",
    "n1, n2, n3"
   ]
  },
  {
   "cell_type": "code",
   "execution_count": 39,
   "metadata": {},
   "outputs": [
    {
     "data": {
      "image/png": "[encoded data removed]",
      "text/plain": [
       "<Figure size 432x288 with 1 Axes>"
      ]
     },
     "metadata": {
      "needs_background": "light"
     },
     "output_type": "display_data"
    }
   ],
   "source": [
    "# Define colormap\n",
    "\n",
    "colors1 = { 0: (.8, 0, 0), 1: (0, .8, 0),\n",
    "            2: (0, 0, .8), 3: (.8, .8, 0),\n",
    "            4: (.8, 0, .8), 5: (0, .8, .8),\n",
    "            6: (.8, .8, .8)}\n",
    "\n",
    "model1.draw_cluster(colors1, name = \"cluster1.pdf\")"
   ]
  },
  {
   "cell_type": "code",
   "execution_count": 60,
   "metadata": {},
   "outputs": [
    {
     "data": {
      "image/png": "[encoded data removed]",
      "text/plain": [
       "<Figure size 432x288 with 1 Axes>"
      ]
     },
     "metadata": {
      "needs_background": "light"
     },
     "output_type": "display_data"
    }
   ],
   "source": [
    "# Define colormap\n",
    "\n",
    "colors2 = {  0: (.8, 0, 0), 1: (0, .8, 0),\n",
    "                2: (0, 0, .8), 3: (.8, .8, 0),\n",
    "                4: (.8, 0, .8), 5: (0, .8, .8),\n",
    "                6: (.8, .8, .8), 7: (.4, 0, 0),\n",
    "                8: (0, .4, 0), 9: (0, 0, .4),\n",
    "                10:(.4, .4, 0), 11: (.4, 0, .4),\n",
    "                12:(0, .4, .4), 13:(.4, .4, .4)}\n",
    "\n",
    "model2.draw_cluster(colors2, name = \"cluster2.pdf\")"
   ]
  },
  {
   "cell_type": "code",
   "execution_count": 84,
   "metadata": {},
   "outputs": [
    {
     "data": {
      "image/png": "[encoded data removed]",
      "text/plain": [
       "<Figure size 432x288 with 1 Axes>"
      ]
     },
     "metadata": {
      "needs_background": "light"
     },
     "output_type": "display_data"
    }
   ],
   "source": [
    "# Define colormap\n",
    "\n",
    "colors3 = {  0: (.8, 0, 0), 1: (0, .8, 0),\n",
    "                2: (0, 0, .8), 3: (.8, .8, 0),\n",
    "                4: (.8, 0, .8), 5: (0, .8, .8),\n",
    "                6: (.8, .8, .8), 7: (.4, 0, 0),\n",
    "                8: (0, .4, 0), 9: (0, 0, .4),\n",
    "                10:(.4, .4, 0), 11: (.4, 0, .4),\n",
    "                12:(0, .4, .4), 13:(.4, .4, .4)}\n",
    "\n",
    "model3.draw_cluster(colors3, name = \"cluster3.pdf\")"
   ]
  },
  {
   "cell_type": "code",
   "execution_count": null,
   "metadata": {},
   "outputs": [],
   "source": []
  }
 ],
 "metadata": {
  "kernelspec": {
   "display_name": "Python 3.7.13 ('tf_torch')",
   "language": "python",
   "name": "python3"
  },
  "language_info": {
   "codemirror_mode": {
    "name": "ipython",
    "version": 3
   },
   "file_extension": ".py",
   "mimetype": "text/x-python",
   "name": "python",
   "nbconvert_exporter": "python",
   "pygments_lexer": "ipython3",
   "version": "3.7.13"
  },
  "orig_nbformat": 4,
  "vscode": {
   "interpreter": {
    "hash": "bda35a1e879a05a447a165f858b45568b1b1e2abd2947b4d01b6ed4acf0b7308"
   }
  }
 },
 "nbformat": 4,
 "nbformat_minor": 2
}
