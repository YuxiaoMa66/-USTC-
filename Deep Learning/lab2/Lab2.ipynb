{
 "cells": [
  {
   "cell_type": "code",
   "execution_count": 13,
   "metadata": {
    "colab": {},
    "colab_type": "code",
    "id": "moNmVfuvnImW",
    "scrolled": true
   },
   "outputs": [],
   "source": [
    "import sys\n",
    "sys.path.append(\"C:\\ProgramData\\Anaconda3\\envs\\Lab\\Lib\\site-packages\")\n",
    "import torch\n",
    "import torch.nn.functional as F\n",
    "import torch.nn as nn\n",
    "from torch.nn.utils.rnn import pack_padded_sequence\n",
    "from torchtext import data\n",
    "from torchtext import datasets\n",
    "import time\n",
    "import random\n",
    "from tqdm import tqdm\n",
    "import matplotlib.pyplot as plt\n",
    "import pandas as pd\n",
    "\n",
    "torch.backends.cudnn.deterministic = True\n",
    "torch.backends.cudnn.enable =True\n",
    "torch.backends.cudnn.benchmark = True"
   ]
  },
  {
   "cell_type": "markdown",
   "metadata": {
    "colab_type": "text",
    "id": "GSRL42Qgy8I8"
   },
   "source": [
    "## General Settings"
   ]
  },
  {
   "cell_type": "code",
   "execution_count": 14,
   "metadata": {
    "colab": {},
    "colab_type": "code",
    "id": "OvW1RgfepCBq"
   },
   "outputs": [],
   "source": [
    "RANDOM_SEED = 123\n",
    "torch.manual_seed(RANDOM_SEED)\n",
    "\n",
    "VOCABULARY_SIZE = 20000\n",
    "LEARNING_RATE = 1e-4\n",
    "BATCH_SIZE = 128\n",
    "NUM_EPOCHS = 15\n",
    "DEVICE = torch.device('cuda' if torch.cuda.is_available() else 'cpu')\n",
    "\n",
    "EMBEDDING_DIM = 128\n",
    "HIDDEN_DIM = 256\n",
    "OUTPUT_DIM = 1"
   ]
  },
  {
   "cell_type": "markdown",
   "metadata": {
    "colab_type": "text",
    "id": "mQMmKUEisW4W"
   },
   "source": [
    "## Dataset"
   ]
  },
  {
   "cell_type": "code",
   "execution_count": 15,
   "metadata": {
    "colab": {
     "base_uri": "https://localhost:8080/",
     "height": 68
    },
    "colab_type": "code",
    "id": "WZ_4jiHVnMxN",
    "outputId": "dfa51c04-4845-44c3-f50b-d36d41f132b8"
   },
   "outputs": [
    {
     "name": "stdout",
     "output_type": "stream",
     "text": [
      "Num Train: 20000\n",
      "Num Valid: 5000\n",
      "Num Test: 25000\n"
     ]
    }
   ],
   "source": [
    "TEXT = data.Field(tokenize='spacy',\n",
    "                  include_lengths=True) \n",
    "LABEL = data.LabelField(dtype=torch.float)\n",
    "train_data, test_data = datasets.IMDB.splits(TEXT, LABEL)\n",
    "train_data, valid_data = train_data.split(random_state=random.seed(RANDOM_SEED),\n",
    "                                          split_ratio=0.8)\n",
    "\n",
    "print(f'Num Train: {len(train_data)}')\n",
    "print(f'Num Valid: {len(valid_data)}')\n",
    "print(f'Num Test: {len(test_data)}')"
   ]
  },
  {
   "cell_type": "code",
   "execution_count": 16,
   "metadata": {
    "colab": {
     "base_uri": "https://localhost:8080/",
     "height": 51
    },
    "colab_type": "code",
    "id": "e8uNrjdtn4A8",
    "outputId": "6cf499d7-7722-4da0-8576-ee0f218cc6e3"
   },
   "outputs": [
    {
     "name": "stdout",
     "output_type": "stream",
     "text": [
      "Vocabulary size: 20002\n",
      "Number of classes: 2\n"
     ]
    }
   ],
   "source": [
    "TEXT.build_vocab(train_data,\n",
    "                 max_size=VOCABULARY_SIZE,\n",
    "                 vectors='glove.6B.100d',\n",
    "                 unk_init=torch.Tensor.normal_)\n",
    "LABEL.build_vocab(train_data)\n",
    "\n",
    "print(f'Vocabulary size: {len(TEXT.vocab)}')\n",
    "print(f'Number of classes: {len(LABEL.vocab)}')"
   ]
  },
  {
   "cell_type": "code",
   "execution_count": 17,
   "metadata": {
    "colab": {},
    "colab_type": "code",
    "id": "i7JiHR1stHNF"
   },
   "outputs": [],
   "source": [
    "train_loader, valid_loader, test_loader = data.BucketIterator.splits(\n",
    "    (train_data, valid_data, test_data), \n",
    "    batch_size=BATCH_SIZE,\n",
    "    sort_within_batch=True, \n",
    "    device=DEVICE)"
   ]
  },
  {
   "cell_type": "code",
   "execution_count": 18,
   "metadata": {
    "colab": {
     "base_uri": "https://localhost:8080/",
     "height": 204
    },
    "colab_type": "code",
    "id": "y8SP_FccutT0",
    "outputId": "fe33763a-4560-4dee-adee-31cc6c48b0b2"
   },
   "outputs": [
    {
     "name": "stdout",
     "output_type": "stream",
     "text": [
      "Train\n",
      "Text matrix size: torch.Size([133, 128])\n",
      "Target vector size: torch.Size([128])\n",
      "\n",
      "Valid:\n",
      "Text matrix size: torch.Size([61, 128])\n",
      "Target vector size: torch.Size([128])\n",
      "\n",
      "Test:\n",
      "Text matrix size: torch.Size([42, 128])\n",
      "Target vector size: torch.Size([128])\n"
     ]
    }
   ],
   "source": [
    "print('Train')\n",
    "for batch in train_loader:\n",
    "    print(f'Text matrix size: {batch.text[0].size()}')\n",
    "    print(f'Target vector size: {batch.label.size()}')\n",
    "    break\n",
    "    \n",
    "print('\\nValid:')\n",
    "for batch in valid_loader:\n",
    "    print(f'Text matrix size: {batch.text[0].size()}')\n",
    "    print(f'Target vector size: {batch.label.size()}')\n",
    "    break\n",
    "    \n",
    "print('\\nTest:')\n",
    "for batch in test_loader:\n",
    "    print(f'Text matrix size: {batch.text[0].size()}')\n",
    "    print(f'Target vector size: {batch.label.size()}')\n",
    "    break"
   ]
  },
  {
   "cell_type": "markdown",
   "metadata": {
    "colab_type": "text",
    "id": "G_grdW3pxCzz"
   },
   "source": [
    "## Model"
   ]
  },
  {
   "cell_type": "code",
   "execution_count": 19,
   "metadata": {},
   "outputs": [],
   "source": [
    "class RNN(nn.Module):\n",
    "    def __init__(self, input_dim, embedding_dim, hidden_dim, output_dim, num_layers=1):\n",
    "        super(RNN, self).__init__()\n",
    "        self.embedding = nn.Embedding(input_dim, embedding_dim)\n",
    "        self.rnn = nn.RNN(input_size = embedding_dim,\n",
    "                          hidden_size = hidden_dim,\n",
    "                          num_layers = num_layers)\n",
    "        self.out = nn.Linear(hidden_dim, output_dim)\n",
    "        self.sig = nn.Sigmoid()\n",
    "        \n",
    "    def forward(self, text, text_length):\n",
    "        text = self.embedding(text)\n",
    "        text_length = text_length.cpu() # 拿回cpu\n",
    "        text = pack_padded_sequence(text, text_length) #input： pad_sequence 的结果length： mini-batch 中句子的实际长度\n",
    "        output, hidden = self.rnn(text)\n",
    "        hidden = hidden[-1]\n",
    "        output = self.out(hidden)\n",
    "        output = self.sig(output)\n",
    "        return output"
   ]
  },
  {
   "cell_type": "code",
   "execution_count": 20,
   "metadata": {},
   "outputs": [],
   "source": [
    "class LSTM(nn.Module):\n",
    "    def __init__(self, vocab_size, embedding_dim, hidden_dim, output_dim):\n",
    "        super(LSTM, self).__init__()\n",
    "        self.embedding = nn.Embedding(vocab_size, embedding_dim)\n",
    "        self.lstm = nn.LSTM(embedding_dim, hidden_dim)\n",
    "        self.out = nn.Linear(hidden_dim, output_dim)\n",
    "        self.sig = nn.Sigmoid()\n",
    "        \n",
    "    def forward(self, text, text_length):\n",
    "        text = self.embedding(text)\n",
    "        text_length = text_length.cpu() # 拿回cpu\n",
    "        text = pack_padded_sequence(text, text_length) #input： pad_sequence 的结果length： mini-batch 中句子的实际长度\n",
    "        output, (hidden,_) = self.lstm(text)\n",
    "        hidden = hidden[-1]\n",
    "        output = self.out(hidden)\n",
    "        output = self.sig(output)\n",
    "        return output"
   ]
  },
  {
   "cell_type": "code",
   "execution_count": 21,
   "metadata": {
    "colab": {},
    "colab_type": "code",
    "id": "nQIUm5EjxFNa"
   },
   "outputs": [],
   "source": [
    "class GRU(nn.Module):\n",
    "    def __init__(self, vocab_size, embedding_dim, hidden_dim, output_dim):\n",
    "        super(GRU, self).__init__()\n",
    "        self.embedding = nn.Embedding(vocab_size, embedding_dim)\n",
    "        self.gru = nn.GRU(embedding_dim, hidden_dim)\n",
    "        self.out = nn.Linear(hidden_dim, output_dim)\n",
    "        self.sig = nn.Sigmoid()\n",
    "        \n",
    "    def forward(self, text, text_length):\n",
    "        text = self.embedding(text)\n",
    "        text_length = text_length.cpu() # 拿回cpu\n",
    "        text = pack_padded_sequence(text, text_length) #input： pad_sequence 的结果length： mini-batch 中句子的实际长度\n",
    "        output, hidden = self.gru(text)\n",
    "        hidden = hidden[-1]\n",
    "        output = self.out(hidden)\n",
    "        output = self.sig(output)\n",
    "        return output"
   ]
  },
  {
   "cell_type": "markdown",
   "metadata": {
    "colab_type": "text",
    "id": "Lv9Ny9di6VcI"
   },
   "source": [
    "## Training"
   ]
  },
  {
   "cell_type": "code",
   "execution_count": 22,
   "metadata": {
    "colab": {},
    "colab_type": "code",
    "id": "7lRusB3dF80X"
   },
   "outputs": [
    {
     "name": "stdout",
     "output_type": "stream",
     "text": [
      "True\n"
     ]
    }
   ],
   "source": [
    "print(torch.cuda.is_available())"
   ]
  },
  {
   "cell_type": "code",
   "execution_count": 10,
   "metadata": {},
   "outputs": [
    {
     "name": "stdout",
     "output_type": "stream",
     "text": [
      "1.11.0+cu113\n"
     ]
    }
   ],
   "source": [
    "\n",
    "import torch\n",
    "print(torch.__version__)"
   ]
  },
  {
   "cell_type": "code",
   "execution_count": 11,
   "metadata": {},
   "outputs": [
    {
     "name": "stdout",
     "output_type": "stream",
     "text": [
      "11.3\n"
     ]
    }
   ],
   "source": [
    "\n",
    "print(torch.cuda_version) #查看cuda版本"
   ]
  },
  {
   "cell_type": "code",
   "execution_count": 23,
   "metadata": {},
   "outputs": [],
   "source": [
    "def binary_acc(preds, label):\n",
    "    preds = torch.round(preds)\n",
    "    correct = torch.eq(preds, label).float()\n",
    "    acc = correct.sum() / correct.shape[0]\n",
    "    return acc\n",
    "\n",
    "def train(model, iterator, optimizer, criterion):\n",
    "    epoch_loss = 0\n",
    "    epoch_acc = 0\n",
    "    pbar = tqdm(iterator, unit='batch', ascii=True, bar_format='{percentage:3.0f}%|{bar:20}{r_bar}')\n",
    "    model.train()\n",
    "    for batch in pbar:\n",
    "        optimizer.zero_grad()\n",
    "        (text, text_lengths), label = batch.text, batch.label\n",
    "        predictions = model(text, text_lengths).squeeze()\n",
    "        loss = criterion(predictions, label.float())\n",
    "        acc = binary_acc(predictions, label)\n",
    "        loss.backward()\n",
    "        optimizer.step()\n",
    "        epoch_loss += loss.item()\n",
    "        epoch_acc += acc.item()\n",
    "        \n",
    "    return epoch_loss / len(iterator), epoch_acc / len(iterator)"
   ]
  },
  {
   "cell_type": "markdown",
   "metadata": {},
   "source": [
    "# evaluate"
   ]
  },
  {
   "cell_type": "code",
   "execution_count": 24,
   "metadata": {},
   "outputs": [],
   "source": [
    "def evaluate(model, iterator, criterion):\n",
    "    epoch_loss = 0\n",
    "    epoch_acc = 0\n",
    "    model.eval()\n",
    "    with torch.no_grad():\n",
    "        for batch in iterator:\n",
    "            (text, text_lengths), label = batch.text, batch.label\n",
    "            predictions = model(text, text_lengths).squeeze()\n",
    "            loss = criterion(predictions, label.float())\n",
    "            acc = binary_acc(predictions, label)\n",
    "            epoch_loss += loss.item()\n",
    "            epoch_acc += acc.item()\n",
    "\n",
    "    return epoch_loss / len(iterator), epoch_acc / len(iterator)"
   ]
  },
  {
   "cell_type": "code",
   "execution_count": 25,
   "metadata": {},
   "outputs": [],
   "source": [
    "def fit(model,optimizer,criterion):\n",
    "    MAX_EPOCHS = 10\n",
    "    loss_tr_hist = []\n",
    "    loss_val_hist = []\n",
    "    accuracy_tr_hist = []\n",
    "    accuracy_val_hist = []\n",
    "\n",
    "    best_valid_loss = float('inf')\n",
    "\n",
    "    for epoch in range(MAX_EPOCHS):\n",
    "        t0 = time.time()\n",
    "        print(epoch+1)\n",
    "        train_loss, train_acc = train(model, train_loader, optimizer, criterion)\n",
    "        loss_tr_hist.append(train_loss)\n",
    "        accuracy_tr_hist.append(train_acc)\n",
    "        \n",
    "        valid_loss, valid_acc = evaluate(model, valid_loader, criterion)\n",
    "        loss_val_hist.append(valid_loss)\n",
    "        accuracy_val_hist.append(valid_acc)\n",
    "\n",
    "        \n",
    "        if valid_loss < best_valid_loss:\n",
    "            best_valid_loss = valid_loss\n",
    "            torch.save(model.state_dict(), 'model.pt')\n",
    "\n",
    "        print(f'\\tTrain Loss: {train_loss:.3f} | Train Acc: {train_acc*100:.2f}%')\n",
    "        print(f'\\tValid Loss: {valid_loss:.3f} | Valid Acc: {valid_acc*100:.2f}%')\n",
    "        \n",
    "    return loss_tr_hist, loss_val_hist, accuracy_tr_hist, accuracy_val_hist"
   ]
  },
  {
   "cell_type": "code",
   "execution_count": 26,
   "metadata": {},
   "outputs": [],
   "source": [
    "INPUT_DIM = len(TEXT.vocab)\n",
    "torch.manual_seed(RANDOM_SEED)\n",
    "\n",
    "\n",
    "modelrnn1 = RNN(INPUT_DIM, EMBEDDING_DIM, HIDDEN_DIM, OUTPUT_DIM)\n",
    "modelrnn1 = modelrnn1.to(DEVICE)\n",
    "optimizerrnn1 = torch.optim.Adam(modelrnn1.parameters(), lr=LEARNING_RATE) #256隐藏，单RNN\n",
    "\n",
    "modelrnn2 = RNN(INPUT_DIM, EMBEDDING_DIM, HIDDEN_DIM, OUTPUT_DIM, 2)\n",
    "modelrnn2 = modelrnn2.to(DEVICE)\n",
    "optimizerrnn2 = torch.optim.Adam(modelrnn2.parameters(), lr=LEARNING_RATE) #256隐藏，2RNN\n",
    "\n",
    "modelrnn3 = RNN(INPUT_DIM, EMBEDDING_DIM, 512, OUTPUT_DIM)\n",
    "modelrnn3 = modelrnn3.to(DEVICE)\n",
    "optimizerrnn3 = torch.optim.Adam(modelrnn3.parameters(), lr=LEARNING_RATE) #512隐藏，单RNN\n",
    "\n",
    "modelrnn4 = RNN(INPUT_DIM, EMBEDDING_DIM, 1024, OUTPUT_DIM)\n",
    "modelrnn4 = modelrnn4.to(DEVICE)\n",
    "optimizerrnn4 = torch.optim.Adam(modelrnn4.parameters(), lr=LEARNING_RATE) #1024隐藏，单RNN\n",
    "\n",
    "modellstm = LSTM(INPUT_DIM, EMBEDDING_DIM, HIDDEN_DIM, OUTPUT_DIM)\n",
    "modellstm = modellstm.to(DEVICE)\n",
    "optimizerlstm = torch.optim.Adam(modellstm.parameters(), lr=LEARNING_RATE) #256隐藏，LSTM\n",
    "\n",
    "modelgru = GRU(INPUT_DIM, EMBEDDING_DIM, HIDDEN_DIM, OUTPUT_DIM)\n",
    "modelgru = modelgru.to(DEVICE)\n",
    "optimizergru = torch.optim.Adam(modelgru.parameters(), lr=LEARNING_RATE) #256隐藏，GRU\n",
    "\n",
    "\n",
    "criterion = nn.BCELoss()"
   ]
  },
  {
   "cell_type": "code",
   "execution_count": 27,
   "metadata": {
    "scrolled": true
   },
   "outputs": [
    {
     "name": "stdout",
     "output_type": "stream",
     "text": [
      "1\n"
     ]
    },
    {
     "name": "stderr",
     "output_type": "stream",
     "text": [
      "100%|####################| 157/157 [00:05<00:00, 26.17batch/s]\n"
     ]
    },
    {
     "name": "stdout",
     "output_type": "stream",
     "text": [
      "\tTrain Loss: 0.686 | Train Acc: 54.61%\n",
      "\tValid Loss: 0.680 | Valid Acc: 56.19%\n",
      "2\n"
     ]
    },
    {
     "name": "stderr",
     "output_type": "stream",
     "text": [
      "100%|####################| 157/157 [00:04<00:00, 33.29batch/s]\n"
     ]
    },
    {
     "name": "stdout",
     "output_type": "stream",
     "text": [
      "\tTrain Loss: 0.656 | Train Acc: 61.14%\n",
      "\tValid Loss: 0.661 | Valid Acc: 60.39%\n",
      "3\n"
     ]
    },
    {
     "name": "stderr",
     "output_type": "stream",
     "text": [
      "100%|####################| 157/157 [00:04<00:00, 32.46batch/s]\n"
     ]
    },
    {
     "name": "stdout",
     "output_type": "stream",
     "text": [
      "\tTrain Loss: 0.637 | Train Acc: 63.59%\n",
      "\tValid Loss: 0.631 | Valid Acc: 65.20%\n",
      "4\n"
     ]
    },
    {
     "name": "stderr",
     "output_type": "stream",
     "text": [
      "100%|####################| 157/157 [00:04<00:00, 33.68batch/s]\n"
     ]
    },
    {
     "name": "stdout",
     "output_type": "stream",
     "text": [
      "\tTrain Loss: 0.621 | Train Acc: 65.83%\n",
      "\tValid Loss: 0.653 | Valid Acc: 61.62%\n",
      "5\n"
     ]
    },
    {
     "name": "stderr",
     "output_type": "stream",
     "text": [
      "100%|####################| 157/157 [00:04<00:00, 34.70batch/s]\n"
     ]
    },
    {
     "name": "stdout",
     "output_type": "stream",
     "text": [
      "\tTrain Loss: 0.618 | Train Acc: 65.83%\n",
      "\tValid Loss: 0.660 | Valid Acc: 60.02%\n",
      "6\n"
     ]
    },
    {
     "name": "stderr",
     "output_type": "stream",
     "text": [
      "100%|####################| 157/157 [00:04<00:00, 34.69batch/s]\n"
     ]
    },
    {
     "name": "stdout",
     "output_type": "stream",
     "text": [
      "\tTrain Loss: 0.628 | Train Acc: 64.84%\n",
      "\tValid Loss: 0.642 | Valid Acc: 62.40%\n",
      "7\n"
     ]
    },
    {
     "name": "stderr",
     "output_type": "stream",
     "text": [
      "100%|####################| 157/157 [00:04<00:00, 34.72batch/s]\n"
     ]
    },
    {
     "name": "stdout",
     "output_type": "stream",
     "text": [
      "\tTrain Loss: 0.600 | Train Acc: 67.97%\n",
      "\tValid Loss: 0.644 | Valid Acc: 62.29%\n",
      "8\n"
     ]
    },
    {
     "name": "stderr",
     "output_type": "stream",
     "text": [
      "100%|####################| 157/157 [00:04<00:00, 34.82batch/s]\n"
     ]
    },
    {
     "name": "stdout",
     "output_type": "stream",
     "text": [
      "\tTrain Loss: 0.583 | Train Acc: 68.94%\n",
      "\tValid Loss: 0.610 | Valid Acc: 67.36%\n",
      "9\n"
     ]
    },
    {
     "name": "stderr",
     "output_type": "stream",
     "text": [
      "100%|####################| 157/157 [00:04<00:00, 34.59batch/s]\n"
     ]
    },
    {
     "name": "stdout",
     "output_type": "stream",
     "text": [
      "\tTrain Loss: 0.547 | Train Acc: 72.40%\n",
      "\tValid Loss: 0.594 | Valid Acc: 68.71%\n",
      "10\n"
     ]
    },
    {
     "name": "stderr",
     "output_type": "stream",
     "text": [
      "100%|####################| 157/157 [00:04<00:00, 34.34batch/s]\n"
     ]
    },
    {
     "name": "stdout",
     "output_type": "stream",
     "text": [
      "\tTrain Loss: 0.568 | Train Acc: 70.76%\n",
      "\tValid Loss: 0.586 | Valid Acc: 69.86%\n",
      "Test Loss: 0.584 | Test Acc: 69.76%\n"
     ]
    }
   ],
   "source": [
    "loss_tr_hist1, loss_val_hist1, accuracy_tr_hist1, accuracy_val_hist1 = fit(modelrnn1,optimizerrnn1,criterion)\n",
    "\n",
    "modelrnn1.load_state_dict(torch.load('model.pt'))\n",
    "test_loss, test_acc = evaluate(modelrnn1, test_loader, criterion)\n",
    "print(f'Test Loss: {test_loss:.3f} | Test Acc: {test_acc*100:.2f}%')"
   ]
  },
  {
   "cell_type": "code",
   "execution_count": 28,
   "metadata": {
    "scrolled": true
   },
   "outputs": [
    {
     "name": "stdout",
     "output_type": "stream",
     "text": [
      "1\n"
     ]
    },
    {
     "name": "stderr",
     "output_type": "stream",
     "text": [
      "100%|####################| 157/157 [00:07<00:00, 22.19batch/s]\n"
     ]
    },
    {
     "name": "stdout",
     "output_type": "stream",
     "text": [
      "\tTrain Loss: 0.684 | Train Acc: 54.91%\n",
      "\tValid Loss: 0.668 | Valid Acc: 58.65%\n",
      "2\n"
     ]
    },
    {
     "name": "stderr",
     "output_type": "stream",
     "text": [
      "100%|####################| 157/157 [00:06<00:00, 22.66batch/s]\n"
     ]
    },
    {
     "name": "stdout",
     "output_type": "stream",
     "text": [
      "\tTrain Loss: 0.639 | Train Acc: 63.44%\n",
      "\tValid Loss: 0.636 | Valid Acc: 64.43%\n",
      "3\n"
     ]
    },
    {
     "name": "stderr",
     "output_type": "stream",
     "text": [
      "100%|####################| 157/157 [00:06<00:00, 23.31batch/s]\n"
     ]
    },
    {
     "name": "stdout",
     "output_type": "stream",
     "text": [
      "\tTrain Loss: 0.667 | Train Acc: 59.40%\n",
      "\tValid Loss: 0.670 | Valid Acc: 58.77%\n",
      "4\n"
     ]
    },
    {
     "name": "stderr",
     "output_type": "stream",
     "text": [
      "100%|####################| 157/157 [00:06<00:00, 23.18batch/s]\n"
     ]
    },
    {
     "name": "stdout",
     "output_type": "stream",
     "text": [
      "\tTrain Loss: 0.643 | Train Acc: 62.90%\n",
      "\tValid Loss: 0.653 | Valid Acc: 62.03%\n",
      "5\n"
     ]
    },
    {
     "name": "stderr",
     "output_type": "stream",
     "text": [
      "100%|####################| 157/157 [00:06<00:00, 23.09batch/s]\n"
     ]
    },
    {
     "name": "stdout",
     "output_type": "stream",
     "text": [
      "\tTrain Loss: 0.614 | Train Acc: 66.31%\n",
      "\tValid Loss: 0.656 | Valid Acc: 60.70%\n",
      "6\n"
     ]
    },
    {
     "name": "stderr",
     "output_type": "stream",
     "text": [
      "100%|####################| 157/157 [00:06<00:00, 23.09batch/s]\n"
     ]
    },
    {
     "name": "stdout",
     "output_type": "stream",
     "text": [
      "\tTrain Loss: 0.587 | Train Acc: 68.35%\n",
      "\tValid Loss: 0.609 | Valid Acc: 66.84%\n",
      "7\n"
     ]
    },
    {
     "name": "stderr",
     "output_type": "stream",
     "text": [
      "100%|####################| 157/157 [00:06<00:00, 23.13batch/s]\n"
     ]
    },
    {
     "name": "stdout",
     "output_type": "stream",
     "text": [
      "\tTrain Loss: 0.559 | Train Acc: 71.85%\n",
      "\tValid Loss: 0.581 | Valid Acc: 71.09%\n",
      "8\n"
     ]
    },
    {
     "name": "stderr",
     "output_type": "stream",
     "text": [
      "100%|####################| 157/157 [00:06<00:00, 22.98batch/s]\n"
     ]
    },
    {
     "name": "stdout",
     "output_type": "stream",
     "text": [
      "\tTrain Loss: 0.544 | Train Acc: 72.91%\n",
      "\tValid Loss: 0.631 | Valid Acc: 68.57%\n",
      "9\n"
     ]
    },
    {
     "name": "stderr",
     "output_type": "stream",
     "text": [
      "100%|####################| 157/157 [00:06<00:00, 23.19batch/s]\n"
     ]
    },
    {
     "name": "stdout",
     "output_type": "stream",
     "text": [
      "\tTrain Loss: 0.568 | Train Acc: 70.60%\n",
      "\tValid Loss: 0.628 | Valid Acc: 64.53%\n",
      "10\n"
     ]
    },
    {
     "name": "stderr",
     "output_type": "stream",
     "text": [
      "100%|####################| 157/157 [00:06<00:00, 23.14batch/s]\n"
     ]
    },
    {
     "name": "stdout",
     "output_type": "stream",
     "text": [
      "\tTrain Loss: 0.548 | Train Acc: 72.73%\n",
      "\tValid Loss: 0.645 | Valid Acc: 62.23%\n",
      "Test Loss: 0.572 | Test Acc: 71.35%\n"
     ]
    }
   ],
   "source": [
    "loss_tr_hist2, loss_val_hist2, accuracy_tr_hist2, accuracy_val_hist2 = fit(modelrnn2,optimizerrnn2,criterion)\n",
    "\n",
    "modelrnn2.load_state_dict(torch.load('model.pt'))\n",
    "test_loss, test_acc = evaluate(modelrnn2, test_loader, criterion)\n",
    "print(f'Test Loss: {test_loss:.3f} | Test Acc: {test_acc*100:.2f}%')"
   ]
  },
  {
   "cell_type": "code",
   "execution_count": 29,
   "metadata": {
    "scrolled": true
   },
   "outputs": [
    {
     "name": "stdout",
     "output_type": "stream",
     "text": [
      "1\n"
     ]
    },
    {
     "name": "stderr",
     "output_type": "stream",
     "text": [
      "100%|####################| 157/157 [00:06<00:00, 24.16batch/s]\n"
     ]
    },
    {
     "name": "stdout",
     "output_type": "stream",
     "text": [
      "\tTrain Loss: 0.680 | Train Acc: 55.50%\n",
      "\tValid Loss: 0.663 | Valid Acc: 58.98%\n",
      "2\n"
     ]
    },
    {
     "name": "stderr",
     "output_type": "stream",
     "text": [
      "100%|####################| 157/157 [00:06<00:00, 23.40batch/s]\n"
     ]
    },
    {
     "name": "stdout",
     "output_type": "stream",
     "text": [
      "\tTrain Loss: 0.639 | Train Acc: 62.90%\n",
      "\tValid Loss: 0.657 | Valid Acc: 60.51%\n",
      "3\n"
     ]
    },
    {
     "name": "stderr",
     "output_type": "stream",
     "text": [
      "100%|####################| 157/157 [00:06<00:00, 24.03batch/s]\n"
     ]
    },
    {
     "name": "stdout",
     "output_type": "stream",
     "text": [
      "\tTrain Loss: 0.630 | Train Acc: 64.69%\n",
      "\tValid Loss: 0.645 | Valid Acc: 62.34%\n",
      "4\n"
     ]
    },
    {
     "name": "stderr",
     "output_type": "stream",
     "text": [
      "100%|####################| 157/157 [00:06<00:00, 23.73batch/s]\n"
     ]
    },
    {
     "name": "stdout",
     "output_type": "stream",
     "text": [
      "\tTrain Loss: 0.608 | Train Acc: 67.12%\n",
      "\tValid Loss: 0.602 | Valid Acc: 68.89%\n",
      "5\n"
     ]
    },
    {
     "name": "stderr",
     "output_type": "stream",
     "text": [
      "100%|####################| 157/157 [00:06<00:00, 24.05batch/s]\n"
     ]
    },
    {
     "name": "stdout",
     "output_type": "stream",
     "text": [
      "\tTrain Loss: 0.594 | Train Acc: 68.37%\n",
      "\tValid Loss: 0.613 | Valid Acc: 66.76%\n",
      "6\n"
     ]
    },
    {
     "name": "stderr",
     "output_type": "stream",
     "text": [
      "100%|####################| 157/157 [00:06<00:00, 23.65batch/s]\n"
     ]
    },
    {
     "name": "stdout",
     "output_type": "stream",
     "text": [
      "\tTrain Loss: 0.603 | Train Acc: 66.85%\n",
      "\tValid Loss: 0.606 | Valid Acc: 67.23%\n",
      "7\n"
     ]
    },
    {
     "name": "stderr",
     "output_type": "stream",
     "text": [
      "100%|####################| 157/157 [00:06<00:00, 24.14batch/s]\n"
     ]
    },
    {
     "name": "stdout",
     "output_type": "stream",
     "text": [
      "\tTrain Loss: 0.559 | Train Acc: 71.78%\n",
      "\tValid Loss: 0.586 | Valid Acc: 68.91%\n",
      "8\n"
     ]
    },
    {
     "name": "stderr",
     "output_type": "stream",
     "text": [
      "100%|####################| 157/157 [00:06<00:00, 24.01batch/s]\n"
     ]
    },
    {
     "name": "stdout",
     "output_type": "stream",
     "text": [
      "\tTrain Loss: 0.579 | Train Acc: 69.85%\n",
      "\tValid Loss: 0.626 | Valid Acc: 64.63%\n",
      "9\n"
     ]
    },
    {
     "name": "stderr",
     "output_type": "stream",
     "text": [
      "100%|####################| 157/157 [00:06<00:00, 23.88batch/s]\n"
     ]
    },
    {
     "name": "stdout",
     "output_type": "stream",
     "text": [
      "\tTrain Loss: 0.615 | Train Acc: 65.53%\n",
      "\tValid Loss: 0.611 | Valid Acc: 67.97%\n",
      "10\n"
     ]
    },
    {
     "name": "stderr",
     "output_type": "stream",
     "text": [
      "100%|####################| 157/157 [00:06<00:00, 24.21batch/s]\n"
     ]
    },
    {
     "name": "stdout",
     "output_type": "stream",
     "text": [
      "\tTrain Loss: 0.588 | Train Acc: 68.83%\n",
      "\tValid Loss: 0.636 | Valid Acc: 63.95%\n",
      "Test Loss: 0.592 | Test Acc: 69.03%\n"
     ]
    }
   ],
   "source": [
    "loss_tr_hist3, loss_val_hist3, accuracy_tr_hist3, accuracy_val_hist3 = fit(modelrnn3,optimizerrnn3,criterion)\n",
    "\n",
    "modelrnn3.load_state_dict(torch.load('model.pt'))\n",
    "test_loss, test_acc = evaluate(modelrnn3, test_loader, criterion)\n",
    "print(f'Test Loss: {test_loss:.3f} | Test Acc: {test_acc*100:.2f}%')"
   ]
  },
  {
   "cell_type": "code",
   "execution_count": 30,
   "metadata": {
    "scrolled": true
   },
   "outputs": [
    {
     "name": "stdout",
     "output_type": "stream",
     "text": [
      "1\n"
     ]
    },
    {
     "name": "stderr",
     "output_type": "stream",
     "text": [
      "100%|####################| 157/157 [00:14<00:00, 10.72batch/s]\n"
     ]
    },
    {
     "name": "stdout",
     "output_type": "stream",
     "text": [
      "\tTrain Loss: 0.675 | Train Acc: 57.62%\n",
      "\tValid Loss: 0.666 | Valid Acc: 59.34%\n",
      "2\n"
     ]
    },
    {
     "name": "stderr",
     "output_type": "stream",
     "text": [
      "100%|####################| 157/157 [00:14<00:00, 10.66batch/s]\n"
     ]
    },
    {
     "name": "stdout",
     "output_type": "stream",
     "text": [
      "\tTrain Loss: 0.651 | Train Acc: 61.75%\n",
      "\tValid Loss: 0.651 | Valid Acc: 62.09%\n",
      "3\n"
     ]
    },
    {
     "name": "stderr",
     "output_type": "stream",
     "text": [
      "100%|####################| 157/157 [00:14<00:00, 10.56batch/s]\n"
     ]
    },
    {
     "name": "stdout",
     "output_type": "stream",
     "text": [
      "\tTrain Loss: 0.636 | Train Acc: 63.57%\n",
      "\tValid Loss: 0.675 | Valid Acc: 57.68%\n",
      "4\n"
     ]
    },
    {
     "name": "stderr",
     "output_type": "stream",
     "text": [
      "100%|####################| 157/157 [00:14<00:00, 10.70batch/s]\n"
     ]
    },
    {
     "name": "stdout",
     "output_type": "stream",
     "text": [
      "\tTrain Loss: 0.640 | Train Acc: 63.16%\n",
      "\tValid Loss: 0.664 | Valid Acc: 60.29%\n",
      "5\n"
     ]
    },
    {
     "name": "stderr",
     "output_type": "stream",
     "text": [
      "100%|####################| 157/157 [00:14<00:00, 10.61batch/s]\n"
     ]
    },
    {
     "name": "stdout",
     "output_type": "stream",
     "text": [
      "\tTrain Loss: 0.637 | Train Acc: 63.78%\n",
      "\tValid Loss: 0.623 | Valid Acc: 65.92%\n",
      "6\n"
     ]
    },
    {
     "name": "stderr",
     "output_type": "stream",
     "text": [
      "100%|####################| 157/157 [00:14<00:00, 10.52batch/s]\n"
     ]
    },
    {
     "name": "stdout",
     "output_type": "stream",
     "text": [
      "\tTrain Loss: 0.594 | Train Acc: 68.74%\n",
      "\tValid Loss: 0.622 | Valid Acc: 66.84%\n",
      "7\n"
     ]
    },
    {
     "name": "stderr",
     "output_type": "stream",
     "text": [
      "100%|####################| 157/157 [00:15<00:00, 10.43batch/s]\n"
     ]
    },
    {
     "name": "stdout",
     "output_type": "stream",
     "text": [
      "\tTrain Loss: 0.578 | Train Acc: 70.26%\n",
      "\tValid Loss: 0.761 | Valid Acc: 61.97%\n",
      "8\n"
     ]
    },
    {
     "name": "stderr",
     "output_type": "stream",
     "text": [
      "100%|####################| 157/157 [00:15<00:00, 10.43batch/s]\n"
     ]
    },
    {
     "name": "stdout",
     "output_type": "stream",
     "text": [
      "\tTrain Loss: 0.569 | Train Acc: 71.04%\n",
      "\tValid Loss: 0.617 | Valid Acc: 67.17%\n",
      "9\n"
     ]
    },
    {
     "name": "stderr",
     "output_type": "stream",
     "text": [
      "100%|####################| 157/157 [00:15<00:00, 10.45batch/s]\n"
     ]
    },
    {
     "name": "stdout",
     "output_type": "stream",
     "text": [
      "\tTrain Loss: 0.596 | Train Acc: 68.34%\n",
      "\tValid Loss: 0.740 | Valid Acc: 48.98%\n",
      "10\n"
     ]
    },
    {
     "name": "stderr",
     "output_type": "stream",
     "text": [
      "100%|####################| 157/157 [00:15<00:00, 10.45batch/s]\n"
     ]
    },
    {
     "name": "stdout",
     "output_type": "stream",
     "text": [
      "\tTrain Loss: 0.618 | Train Acc: 65.42%\n",
      "\tValid Loss: 0.630 | Valid Acc: 65.29%\n",
      "Test Loss: 0.622 | Test Acc: 65.74%\n"
     ]
    }
   ],
   "source": [
    "loss_tr_hist4, loss_val_hist4, accuracy_tr_hist4, accuracy_val_hist4 = fit(modelrnn4,optimizerrnn4,criterion)\n",
    "\n",
    "modelrnn4.load_state_dict(torch.load('model.pt'))\n",
    "test_loss, test_acc = evaluate(modelrnn4, test_loader, criterion)\n",
    "print(f'Test Loss: {test_loss:.3f} | Test Acc: {test_acc*100:.2f}%')"
   ]
  },
  {
   "cell_type": "code",
   "execution_count": 31,
   "metadata": {
    "scrolled": true
   },
   "outputs": [
    {
     "name": "stdout",
     "output_type": "stream",
     "text": [
      "1\n"
     ]
    },
    {
     "name": "stderr",
     "output_type": "stream",
     "text": [
      "100%|####################| 157/157 [00:07<00:00, 19.69batch/s]\n"
     ]
    },
    {
     "name": "stdout",
     "output_type": "stream",
     "text": [
      "\tTrain Loss: 0.687 | Train Acc: 54.82%\n",
      "\tValid Loss: 0.681 | Valid Acc: 57.58%\n",
      "2\n"
     ]
    },
    {
     "name": "stderr",
     "output_type": "stream",
     "text": [
      "100%|####################| 157/157 [00:08<00:00, 19.43batch/s]\n"
     ]
    },
    {
     "name": "stdout",
     "output_type": "stream",
     "text": [
      "\tTrain Loss: 0.644 | Train Acc: 62.85%\n",
      "\tValid Loss: 0.593 | Valid Acc: 68.63%\n",
      "3\n"
     ]
    },
    {
     "name": "stderr",
     "output_type": "stream",
     "text": [
      "100%|####################| 157/157 [00:08<00:00, 19.45batch/s]\n"
     ]
    },
    {
     "name": "stdout",
     "output_type": "stream",
     "text": [
      "\tTrain Loss: 0.551 | Train Acc: 72.54%\n",
      "\tValid Loss: 0.527 | Valid Acc: 73.63%\n",
      "4\n"
     ]
    },
    {
     "name": "stderr",
     "output_type": "stream",
     "text": [
      "100%|####################| 157/157 [00:07<00:00, 19.72batch/s]\n"
     ]
    },
    {
     "name": "stdout",
     "output_type": "stream",
     "text": [
      "\tTrain Loss: 0.510 | Train Acc: 75.84%\n",
      "\tValid Loss: 0.503 | Valid Acc: 75.55%\n",
      "5\n"
     ]
    },
    {
     "name": "stderr",
     "output_type": "stream",
     "text": [
      "100%|####################| 157/157 [00:08<00:00, 19.54batch/s]\n"
     ]
    },
    {
     "name": "stdout",
     "output_type": "stream",
     "text": [
      "\tTrain Loss: 0.461 | Train Acc: 78.96%\n",
      "\tValid Loss: 0.449 | Valid Acc: 78.30%\n",
      "6\n"
     ]
    },
    {
     "name": "stderr",
     "output_type": "stream",
     "text": [
      "100%|####################| 157/157 [00:08<00:00, 19.47batch/s]\n"
     ]
    },
    {
     "name": "stdout",
     "output_type": "stream",
     "text": [
      "\tTrain Loss: 0.436 | Train Acc: 80.24%\n",
      "\tValid Loss: 0.453 | Valid Acc: 79.18%\n",
      "7\n"
     ]
    },
    {
     "name": "stderr",
     "output_type": "stream",
     "text": [
      "100%|####################| 157/157 [00:08<00:00, 19.44batch/s]\n"
     ]
    },
    {
     "name": "stdout",
     "output_type": "stream",
     "text": [
      "\tTrain Loss: 0.403 | Train Acc: 82.65%\n",
      "\tValid Loss: 0.421 | Valid Acc: 80.49%\n",
      "8\n"
     ]
    },
    {
     "name": "stderr",
     "output_type": "stream",
     "text": [
      "100%|####################| 157/157 [00:08<00:00, 19.53batch/s]\n"
     ]
    },
    {
     "name": "stdout",
     "output_type": "stream",
     "text": [
      "\tTrain Loss: 0.377 | Train Acc: 83.91%\n",
      "\tValid Loss: 0.441 | Valid Acc: 79.55%\n",
      "9\n"
     ]
    },
    {
     "name": "stderr",
     "output_type": "stream",
     "text": [
      "100%|####################| 157/157 [00:08<00:00, 19.44batch/s]\n"
     ]
    },
    {
     "name": "stdout",
     "output_type": "stream",
     "text": [
      "\tTrain Loss: 0.369 | Train Acc: 84.52%\n",
      "\tValid Loss: 0.382 | Valid Acc: 83.09%\n",
      "10\n"
     ]
    },
    {
     "name": "stderr",
     "output_type": "stream",
     "text": [
      "100%|####################| 157/157 [00:08<00:00, 19.33batch/s]\n"
     ]
    },
    {
     "name": "stdout",
     "output_type": "stream",
     "text": [
      "\tTrain Loss: 0.338 | Train Acc: 86.13%\n",
      "\tValid Loss: 0.371 | Valid Acc: 83.89%\n",
      "Test Loss: 0.389 | Test Acc: 83.08%\n"
     ]
    }
   ],
   "source": [
    "loss_tr_hist5, loss_val_hist5, accuracy_tr_hist5, accuracy_val_hist5 = fit(modellstm,optimizerlstm,criterion)\n",
    "\n",
    "modellstm.load_state_dict(torch.load('model.pt'))\n",
    "test_loss, test_acc = evaluate(modellstm, test_loader, criterion)\n",
    "print(f'Test Loss: {test_loss:.3f} | Test Acc: {test_acc*100:.2f}%')"
   ]
  },
  {
   "cell_type": "code",
   "execution_count": 32,
   "metadata": {
    "scrolled": true
   },
   "outputs": [
    {
     "name": "stdout",
     "output_type": "stream",
     "text": [
      "1\n"
     ]
    },
    {
     "name": "stderr",
     "output_type": "stream",
     "text": [
      "100%|####################| 157/157 [00:06<00:00, 23.05batch/s]\n"
     ]
    },
    {
     "name": "stdout",
     "output_type": "stream",
     "text": [
      "\tTrain Loss: 0.686 | Train Acc: 54.27%\n",
      "\tValid Loss: 0.677 | Valid Acc: 58.69%\n",
      "2\n"
     ]
    },
    {
     "name": "stderr",
     "output_type": "stream",
     "text": [
      "100%|####################| 157/157 [00:06<00:00, 23.43batch/s]\n"
     ]
    },
    {
     "name": "stdout",
     "output_type": "stream",
     "text": [
      "\tTrain Loss: 0.649 | Train Acc: 62.04%\n",
      "\tValid Loss: 0.574 | Valid Acc: 69.77%\n",
      "3\n"
     ]
    },
    {
     "name": "stderr",
     "output_type": "stream",
     "text": [
      "100%|####################| 157/157 [00:06<00:00, 23.00batch/s]\n"
     ]
    },
    {
     "name": "stdout",
     "output_type": "stream",
     "text": [
      "\tTrain Loss: 0.532 | Train Acc: 73.90%\n",
      "\tValid Loss: 0.510 | Valid Acc: 74.45%\n",
      "4\n"
     ]
    },
    {
     "name": "stderr",
     "output_type": "stream",
     "text": [
      "100%|####################| 157/157 [00:06<00:00, 22.97batch/s]\n"
     ]
    },
    {
     "name": "stdout",
     "output_type": "stream",
     "text": [
      "\tTrain Loss: 0.481 | Train Acc: 77.79%\n",
      "\tValid Loss: 0.483 | Valid Acc: 76.80%\n",
      "5\n"
     ]
    },
    {
     "name": "stderr",
     "output_type": "stream",
     "text": [
      "100%|####################| 157/157 [00:06<00:00, 22.87batch/s]\n"
     ]
    },
    {
     "name": "stdout",
     "output_type": "stream",
     "text": [
      "\tTrain Loss: 0.434 | Train Acc: 80.50%\n",
      "\tValid Loss: 0.446 | Valid Acc: 79.18%\n",
      "6\n"
     ]
    },
    {
     "name": "stderr",
     "output_type": "stream",
     "text": [
      "100%|####################| 157/157 [00:06<00:00, 22.86batch/s]\n"
     ]
    },
    {
     "name": "stdout",
     "output_type": "stream",
     "text": [
      "\tTrain Loss: 0.406 | Train Acc: 82.29%\n",
      "\tValid Loss: 0.449 | Valid Acc: 79.00%\n",
      "7\n"
     ]
    },
    {
     "name": "stderr",
     "output_type": "stream",
     "text": [
      "100%|####################| 157/157 [00:06<00:00, 22.95batch/s]\n"
     ]
    },
    {
     "name": "stdout",
     "output_type": "stream",
     "text": [
      "\tTrain Loss: 0.404 | Train Acc: 82.50%\n",
      "\tValid Loss: 0.458 | Valid Acc: 77.97%\n",
      "8\n"
     ]
    },
    {
     "name": "stderr",
     "output_type": "stream",
     "text": [
      "100%|####################| 157/157 [00:06<00:00, 23.04batch/s]\n"
     ]
    },
    {
     "name": "stdout",
     "output_type": "stream",
     "text": [
      "\tTrain Loss: 0.415 | Train Acc: 81.84%\n",
      "\tValid Loss: 0.419 | Valid Acc: 82.07%\n",
      "9\n"
     ]
    },
    {
     "name": "stderr",
     "output_type": "stream",
     "text": [
      "100%|####################| 157/157 [00:06<00:00, 23.04batch/s]\n"
     ]
    },
    {
     "name": "stdout",
     "output_type": "stream",
     "text": [
      "\tTrain Loss: 0.352 | Train Acc: 85.10%\n",
      "\tValid Loss: 0.416 | Valid Acc: 82.95%\n",
      "10\n"
     ]
    },
    {
     "name": "stderr",
     "output_type": "stream",
     "text": [
      "100%|####################| 157/157 [00:06<00:00, 22.86batch/s]\n"
     ]
    },
    {
     "name": "stdout",
     "output_type": "stream",
     "text": [
      "\tTrain Loss: 0.344 | Train Acc: 85.83%\n",
      "\tValid Loss: 0.377 | Valid Acc: 84.00%\n",
      "Test Loss: 0.395 | Test Acc: 83.26%\n"
     ]
    }
   ],
   "source": [
    "loss_tr_hist6, loss_val_hist6, accuracy_tr_hist6, accuracy_val_hist6 = fit(modelgru,optimizergru,criterion)\n",
    "\n",
    "modelgru.load_state_dict(torch.load('model.pt'))\n",
    "test_loss, test_acc = evaluate(modelgru, test_loader, criterion)\n",
    "print(f'Test Loss: {test_loss:.3f} | Test Acc: {test_acc*100:.2f}%')"
   ]
  },
  {
   "cell_type": "code",
   "execution_count": 33,
   "metadata": {},
   "outputs": [
    {
     "data": {
      "text/plain": [
       "[0.6859054728678078,\n",
       " 0.6560195859070796,\n",
       " 0.6367367650293241,\n",
       " 0.620517904971056,\n",
       " 0.6177883197547523,\n",
       " 0.6281139672182168,\n",
       " 0.5995649399271437,\n",
       " 0.5830636732517533,\n",
       " 0.5473510533761067,\n",
       " 0.5678144725644665]"
      ]
     },
     "execution_count": 33,
     "metadata": {},
     "output_type": "execute_result"
    }
   ],
   "source": [
    "loss_tr_hist1"
   ]
  },
  {
   "cell_type": "code",
   "execution_count": 34,
   "metadata": {},
   "outputs": [],
   "source": [
    "x = [i for i in range(1,11)]"
   ]
  },
  {
   "cell_type": "code",
   "execution_count": 35,
   "metadata": {},
   "outputs": [],
   "source": [
    "df = pd.DataFrame(columns=['epoch','acc1','acc2','acc3','acc4','acc5','acc6','loss1','loss2','loss3','loss4','loss5','loss6'])\n",
    "df['epoch'] = x\n",
    "df['acc1'] = accuracy_tr_hist1 \n",
    "df['acc2'] = accuracy_tr_hist2\n",
    "df['acc3'] = accuracy_tr_hist3 \n",
    "df['acc4'] = accuracy_tr_hist4 \n",
    "df['acc5'] = accuracy_tr_hist5 \n",
    "df['acc6'] = accuracy_tr_hist6 \n",
    "df['loss1'] = loss_tr_hist1\n",
    "df['loss2'] = loss_tr_hist2\n",
    "df['loss3'] = loss_tr_hist3\n",
    "df['loss4'] = loss_tr_hist4\n",
    "df['loss5'] = loss_tr_hist5\n",
    "df['loss6'] = loss_tr_hist6"
   ]
  },
  {
   "cell_type": "code",
   "execution_count": 36,
   "metadata": {},
   "outputs": [
    {
     "data": {
      "text/html": [
       "<div>\n",
       "<style scoped>\n",
       "    .dataframe tbody tr th:only-of-type {\n",
       "        vertical-align: middle;\n",
       "    }\n",
       "\n",
       "    .dataframe tbody tr th {\n",
       "        vertical-align: top;\n",
       "    }\n",
       "\n",
       "    .dataframe thead th {\n",
       "        text-align: right;\n",
       "    }\n",
       "</style>\n",
       "<table border=\"1\" class=\"dataframe\">\n",
       "  <thead>\n",
       "    <tr style=\"text-align: right;\">\n",
       "      <th></th>\n",
       "      <th>epoch</th>\n",
       "      <th>acc1</th>\n",
       "      <th>acc2</th>\n",
       "      <th>acc3</th>\n",
       "      <th>acc4</th>\n",
       "      <th>acc5</th>\n",
       "      <th>acc6</th>\n",
       "      <th>loss1</th>\n",
       "      <th>loss2</th>\n",
       "      <th>loss3</th>\n",
       "      <th>loss4</th>\n",
       "      <th>loss5</th>\n",
       "      <th>loss6</th>\n",
       "    </tr>\n",
       "  </thead>\n",
       "  <tbody>\n",
       "    <tr>\n",
       "      <th>0</th>\n",
       "      <td>1</td>\n",
       "      <td>0.546079</td>\n",
       "      <td>0.549064</td>\n",
       "      <td>0.555036</td>\n",
       "      <td>0.576234</td>\n",
       "      <td>0.548169</td>\n",
       "      <td>0.542695</td>\n",
       "      <td>0.685905</td>\n",
       "      <td>0.683731</td>\n",
       "      <td>0.680234</td>\n",
       "      <td>0.674781</td>\n",
       "      <td>0.687267</td>\n",
       "      <td>0.686225</td>\n",
       "    </tr>\n",
       "    <tr>\n",
       "      <th>1</th>\n",
       "      <td>2</td>\n",
       "      <td>0.611365</td>\n",
       "      <td>0.634355</td>\n",
       "      <td>0.628981</td>\n",
       "      <td>0.617486</td>\n",
       "      <td>0.628533</td>\n",
       "      <td>0.620372</td>\n",
       "      <td>0.656020</td>\n",
       "      <td>0.638795</td>\n",
       "      <td>0.638913</td>\n",
       "      <td>0.651162</td>\n",
       "      <td>0.643656</td>\n",
       "      <td>0.649142</td>\n",
       "    </tr>\n",
       "    <tr>\n",
       "      <th>2</th>\n",
       "      <td>3</td>\n",
       "      <td>0.635898</td>\n",
       "      <td>0.594049</td>\n",
       "      <td>0.646895</td>\n",
       "      <td>0.635699</td>\n",
       "      <td>0.725418</td>\n",
       "      <td>0.739003</td>\n",
       "      <td>0.636737</td>\n",
       "      <td>0.666902</td>\n",
       "      <td>0.629717</td>\n",
       "      <td>0.636393</td>\n",
       "      <td>0.551418</td>\n",
       "      <td>0.532194</td>\n",
       "    </tr>\n",
       "    <tr>\n",
       "      <th>3</th>\n",
       "      <td>4</td>\n",
       "      <td>0.658290</td>\n",
       "      <td>0.629031</td>\n",
       "      <td>0.671228</td>\n",
       "      <td>0.631568</td>\n",
       "      <td>0.758410</td>\n",
       "      <td>0.777866</td>\n",
       "      <td>0.620518</td>\n",
       "      <td>0.642737</td>\n",
       "      <td>0.608046</td>\n",
       "      <td>0.640361</td>\n",
       "      <td>0.509798</td>\n",
       "      <td>0.481293</td>\n",
       "    </tr>\n",
       "    <tr>\n",
       "      <th>4</th>\n",
       "      <td>5</td>\n",
       "      <td>0.658290</td>\n",
       "      <td>0.663117</td>\n",
       "      <td>0.683668</td>\n",
       "      <td>0.637789</td>\n",
       "      <td>0.789560</td>\n",
       "      <td>0.805036</td>\n",
       "      <td>0.617788</td>\n",
       "      <td>0.614306</td>\n",
       "      <td>0.593858</td>\n",
       "      <td>0.636752</td>\n",
       "      <td>0.460616</td>\n",
       "      <td>0.434489</td>\n",
       "    </tr>\n",
       "    <tr>\n",
       "      <th>5</th>\n",
       "      <td>6</td>\n",
       "      <td>0.648388</td>\n",
       "      <td>0.683469</td>\n",
       "      <td>0.668541</td>\n",
       "      <td>0.687400</td>\n",
       "      <td>0.802448</td>\n",
       "      <td>0.822900</td>\n",
       "      <td>0.628114</td>\n",
       "      <td>0.587425</td>\n",
       "      <td>0.602701</td>\n",
       "      <td>0.594015</td>\n",
       "      <td>0.435883</td>\n",
       "      <td>0.406191</td>\n",
       "    </tr>\n",
       "    <tr>\n",
       "      <th>6</th>\n",
       "      <td>7</td>\n",
       "      <td>0.679688</td>\n",
       "      <td>0.718451</td>\n",
       "      <td>0.717805</td>\n",
       "      <td>0.702578</td>\n",
       "      <td>0.826483</td>\n",
       "      <td>0.824990</td>\n",
       "      <td>0.599565</td>\n",
       "      <td>0.559333</td>\n",
       "      <td>0.558950</td>\n",
       "      <td>0.578497</td>\n",
       "      <td>0.402690</td>\n",
       "      <td>0.404400</td>\n",
       "    </tr>\n",
       "    <tr>\n",
       "      <th>7</th>\n",
       "      <td>8</td>\n",
       "      <td>0.689441</td>\n",
       "      <td>0.729100</td>\n",
       "      <td>0.698547</td>\n",
       "      <td>0.710440</td>\n",
       "      <td>0.839072</td>\n",
       "      <td>0.818372</td>\n",
       "      <td>0.583064</td>\n",
       "      <td>0.543823</td>\n",
       "      <td>0.578585</td>\n",
       "      <td>0.568770</td>\n",
       "      <td>0.377000</td>\n",
       "      <td>0.414540</td>\n",
       "    </tr>\n",
       "    <tr>\n",
       "      <th>8</th>\n",
       "      <td>9</td>\n",
       "      <td>0.723975</td>\n",
       "      <td>0.706011</td>\n",
       "      <td>0.655255</td>\n",
       "      <td>0.683420</td>\n",
       "      <td>0.845193</td>\n",
       "      <td>0.850965</td>\n",
       "      <td>0.547351</td>\n",
       "      <td>0.568166</td>\n",
       "      <td>0.614644</td>\n",
       "      <td>0.595811</td>\n",
       "      <td>0.368619</td>\n",
       "      <td>0.352315</td>\n",
       "    </tr>\n",
       "    <tr>\n",
       "      <th>9</th>\n",
       "      <td>10</td>\n",
       "      <td>0.707604</td>\n",
       "      <td>0.727309</td>\n",
       "      <td>0.688346</td>\n",
       "      <td>0.654210</td>\n",
       "      <td>0.861316</td>\n",
       "      <td>0.858280</td>\n",
       "      <td>0.567814</td>\n",
       "      <td>0.548225</td>\n",
       "      <td>0.587620</td>\n",
       "      <td>0.617573</td>\n",
       "      <td>0.337983</td>\n",
       "      <td>0.343533</td>\n",
       "    </tr>\n",
       "  </tbody>\n",
       "</table>\n",
       "</div>"
      ],
      "text/plain": [
       "   epoch      acc1      acc2      acc3      acc4      acc5      acc6  \\\n",
       "0      1  0.546079  0.549064  0.555036  0.576234  0.548169  0.542695   \n",
       "1      2  0.611365  0.634355  0.628981  0.617486  0.628533  0.620372   \n",
       "2      3  0.635898  0.594049  0.646895  0.635699  0.725418  0.739003   \n",
       "3      4  0.658290  0.629031  0.671228  0.631568  0.758410  0.777866   \n",
       "4      5  0.658290  0.663117  0.683668  0.637789  0.789560  0.805036   \n",
       "5      6  0.648388  0.683469  0.668541  0.687400  0.802448  0.822900   \n",
       "6      7  0.679688  0.718451  0.717805  0.702578  0.826483  0.824990   \n",
       "7      8  0.689441  0.729100  0.698547  0.710440  0.839072  0.818372   \n",
       "8      9  0.723975  0.706011  0.655255  0.683420  0.845193  0.850965   \n",
       "9     10  0.707604  0.727309  0.688346  0.654210  0.861316  0.858280   \n",
       "\n",
       "      loss1     loss2     loss3     loss4     loss5     loss6  \n",
       "0  0.685905  0.683731  0.680234  0.674781  0.687267  0.686225  \n",
       "1  0.656020  0.638795  0.638913  0.651162  0.643656  0.649142  \n",
       "2  0.636737  0.666902  0.629717  0.636393  0.551418  0.532194  \n",
       "3  0.620518  0.642737  0.608046  0.640361  0.509798  0.481293  \n",
       "4  0.617788  0.614306  0.593858  0.636752  0.460616  0.434489  \n",
       "5  0.628114  0.587425  0.602701  0.594015  0.435883  0.406191  \n",
       "6  0.599565  0.559333  0.558950  0.578497  0.402690  0.404400  \n",
       "7  0.583064  0.543823  0.578585  0.568770  0.377000  0.414540  \n",
       "8  0.547351  0.568166  0.614644  0.595811  0.368619  0.352315  \n",
       "9  0.567814  0.548225  0.587620  0.617573  0.337983  0.343533  "
      ]
     },
     "execution_count": 36,
     "metadata": {},
     "output_type": "execute_result"
    }
   ],
   "source": [
    "df"
   ]
  },
  {
   "cell_type": "code",
   "execution_count": 37,
   "metadata": {},
   "outputs": [],
   "source": [
    "df.to_csv('data.csv')"
   ]
  },
  {
   "cell_type": "code",
   "execution_count": null,
   "metadata": {},
   "outputs": [],
   "source": [
    "import matplotlib.pyplot as plt\n",
    "plt.title('')  # 折线图标题\n",
    "plt.rcParams['font.sans-serif'] = ['SimHei']  # 显示汉字\n",
    "plt.xlabel('epoch')  # x轴标题\n",
    "plt.ylabel('Accurance')  # y轴标题\n",
    "plt.plot(x, accuracy_tr_hist1, marker='o', markersize=1)  # 绘制折线图，添加数据点，设置点的大小\n",
    "plt.plot(x, accuracy_tr_hist2, marker='o', markersize=1)\n",
    "plt.plot(x, accuracy_tr_hist3, marker='o', markersize=1)\n",
    "plt.plot(x, accuracy_tr_hist4, marker='o', markersize=1)\n",
    "plt.plot(x, accuracy_tr_hist5, marker='o', markersize=1)\n",
    "plt.plot(x, accuracy_tr_hist6, marker='o', markersize=1)\n",
    "\n",
    "for a, b in zip(x, accuracy_tr_hist1):\n",
    "    plt.text(a, b, b, ha='center', va='bottom', fontsize=10)  # 设置数据标签位置及大小\n",
    "for a, b in zip(x, accuracy_tr_hist2):\n",
    "    plt.text(a, b, b, ha='center', va='bottom', fontsize=10)\n",
    "for a, b in zip(x, accuracy_tr_hist3):\n",
    "    plt.text(a, b, b, ha='center', va='bottom', fontsize=10)\n",
    "for a, b in zip(x, accuracy_tr_hist4):\n",
    "    plt.text(a, b, b, ha='center', va='bottom', fontsize=10)\n",
    "for a, b in zip(x, accuracy_tr_hist5):\n",
    "    plt.text(a, b, b, ha='center', va='bottom', fontsize=10)\n",
    "for a, b in zip(x, accuracy_tr_hist6):\n",
    "    plt.text(a, b, b, ha='center', va='bottom', fontsize=10)\n",
    "\n",
    "plt.legend(['256隐藏，单RNN', '256隐藏，2RNN，单RNN', '512隐藏，单RNN', '1024隐藏，单RNN', '256隐藏，LSTM','256隐藏，GRU'])  # 设置折线名称\n",
    "plt.savefig('acc.pdf')\n",
    "plt.show()  # 显示折线图\n"
   ]
  },
  {
   "cell_type": "code",
   "execution_count": null,
   "metadata": {},
   "outputs": [],
   "source": [
    "import matplotlib.pyplot as plt\n",
    "plt.title('')  # 折线图标题\n",
    "plt.rcParams['font.sans-serif'] = ['SimHei']  # 显示汉字\n",
    "plt.xlabel('epoch')  # x轴标题\n",
    "plt.ylabel('Loss')  # y轴标题\n",
    "plt.plot(x, loss_tr_hist1, marker='o', markersize=1)  # 绘制折线图，添加数据点，设置点的大小\n",
    "plt.plot(x, loss_tr_hist2, marker='o', markersize=1)\n",
    "plt.plot(x, loss_tr_hist3, marker='o', markersize=1)\n",
    "plt.plot(x, loss_tr_hist4, marker='o', markersize=1)\n",
    "plt.plot(x, loss_tr_hist5, marker='o', markersize=1)\n",
    "plt.plot(x, loss_tr_hist6, marker='o', markersize=1)\n",
    "\n",
    "for a, b in zip(x, loss_tr_hist1):\n",
    "    plt.text(a, b, b, ha='center', va='bottom', fontsize=10)  # 设置数据标签位置及大小\n",
    "for a, b in zip(x, loss_tr_hist2):\n",
    "    plt.text(a, b, b, ha='center', va='bottom', fontsize=10)\n",
    "for a, b in zip(x, loss_tr_hist3):\n",
    "    plt.text(a, b, b, ha='center', va='bottom', fontsize=10)\n",
    "for a, b in zip(x, loss_tr_hist4):\n",
    "    plt.text(a, b, b, ha='center', va='bottom', fontsize=10)\n",
    "for a, b in zip(x, loss_tr_hist5):\n",
    "    plt.text(a, b, b, ha='center', va='bottom', fontsize=10)\n",
    "for a, b in zip(x, loss_tr_hist6):\n",
    "    plt.text(a, b, b, ha='center', va='bottom', fontsize=10)\n",
    "\n",
    "plt.legend(['256隐藏，单RNN', '256隐藏，2RNN，单RNN', '512隐藏，单RNN', '1024隐藏，单RNN', '256隐藏，LSTM','256隐藏，GRU'])  # 设置折线名称\n",
    "plt.savefig('loss.pdf')\n",
    "plt.show()  # 显示折线图\n"
   ]
  },
  {
   "cell_type": "code",
   "execution_count": null,
   "metadata": {},
   "outputs": [],
   "source": []
  }
 ],
 "metadata": {
  "colab": {
   "collapsed_sections": [],
   "name": "rnn_lstm_packed_imdb.ipynb",
   "provenance": [],
   "version": "0.3.2"
  },
  "kernelspec": {
   "display_name": "Python 3 (ipykernel)",
   "language": "python",
   "name": "python3"
  },
  "language_info": {
   "codemirror_mode": {
    "name": "ipython",
    "version": 3
   },
   "file_extension": ".py",
   "mimetype": "text/x-python",
   "name": "python",
   "nbconvert_exporter": "python",
   "pygments_lexer": "ipython3",
   "version": "3.9.7"
  }
 },
 "nbformat": 4,
 "nbformat_minor": 2
}
